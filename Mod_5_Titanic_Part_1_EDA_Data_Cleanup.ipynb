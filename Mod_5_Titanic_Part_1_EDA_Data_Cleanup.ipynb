{
  "nbformat": 4,
  "nbformat_minor": 0,
  "metadata": {
    "colab": {
      "provenance": [],
      "collapsed_sections": [
        "db3hcAiCmCK-",
        "xppaRLU24lyo"
      ],
      "authorship_tag": "ABX9TyN5HOvjrnwe0UV8MvlDOSvO",
      "include_colab_link": true
    },
    "kernelspec": {
      "name": "python3",
      "display_name": "Python 3"
    },
    "language_info": {
      "name": "python"
    }
  },
  "cells": [
    {
      "cell_type": "markdown",
      "metadata": {
        "id": "view-in-github",
        "colab_type": "text"
      },
      "source": [
        "<a href=\"https://colab.research.google.com/github/vibhuvanjari-Kellogg/classification-modeling-Titanic/blob/main/Mod_5_Titanic_Part_1_EDA_Data_Cleanup.ipynb\" target=\"_parent\"><img src=\"https://colab.research.google.com/assets/colab-badge.svg\" alt=\"Open In Colab\"/></a>"
      ]
    },
    {
      "cell_type": "markdown",
      "source": [
        "### Introduction\n",
        "\n",
        "Link to access this code - https://colab.research.google.com/drive/1ojYP9ur_Mpa1GtjdkkPL4PsNwrxLD_ir?usp=sharing\n",
        "\n",
        "Data taken from - https://www.kaggle.com/c/titanic/data\n",
        "\n",
        "Part 2: https://colab.research.google.com/drive/1OX0dFDrMRPJfsf1d39qfpUsUGJkhzUt-?usp=sharing"
      ],
      "metadata": {
        "id": "7y4rMean3dea"
      }
    },
    {
      "cell_type": "markdown",
      "source": [
        "### Import modules and data files"
      ],
      "metadata": {
        "id": "9HWrWlpE3gFQ"
      }
    },
    {
      "cell_type": "code",
      "execution_count": null,
      "metadata": {
        "id": "NRTdzfBU3UW-"
      },
      "outputs": [],
      "source": [
        "# Import modules\n",
        "import pandas as pd\n",
        "import matplotlib.pyplot as plt\n",
        "import seaborn as sns\n",
        "import statsmodels.api as sm\n",
        "import numpy as np\n",
        "import statsmodels.formula.api as smf\n",
        "\n",
        "from sklearn import tree\n",
        "from sklearn.metrics import accuracy_score\n",
        "from sklearn.linear_model import LinearRegression\n",
        "from sklearn.metrics import mean_squared_error, r2_score, mean_absolute_error, make_scorer\n",
        "from sklearn.preprocessing import StandardScaler\n",
        "from sklearn.preprocessing import MinMaxScaler, StandardScaler\n",
        "from sklearn.model_selection import cross_val_score, KFold\n",
        "from sklearn.model_selection import cross_val_predict\n",
        "from sklearn.linear_model import Lasso\n",
        "from sklearn.linear_model import Ridge\n",
        "from sklearn.linear_model import ElasticNet\n",
        "from sklearn.linear_model import ElasticNetCV\n",
        "from sklearn.ensemble import RandomForestRegressor\n",
        "\n",
        "# Figures inline and set visualization style\n",
        "%matplotlib inline\n",
        "sns.set()\n",
        "\n",
        "# To ensure all columns are displayed when calling data\n",
        "pd.set_option('display.max_columns', None)\n",
        "pd.set_option('display.max_rows', None)"
      ]
    },
    {
      "cell_type": "code",
      "source": [
        "df_train_original = pd.read_csv('train.csv')\n",
        "df_test_original = pd.read_csv('test.csv')"
      ],
      "metadata": {
        "id": "SF94bZ1Y3j9Y"
      },
      "execution_count": null,
      "outputs": []
    },
    {
      "cell_type": "code",
      "source": [
        "df_train_original.info()"
      ],
      "metadata": {
        "colab": {
          "base_uri": "https://localhost:8080/"
        },
        "collapsed": true,
        "id": "Fz_1YqMI3kYE",
        "outputId": "2c32cba3-2071-442d-db67-e2ecaaf40a96"
      },
      "execution_count": null,
      "outputs": [
        {
          "output_type": "stream",
          "name": "stdout",
          "text": [
            "<class 'pandas.core.frame.DataFrame'>\n",
            "RangeIndex: 891 entries, 0 to 890\n",
            "Data columns (total 12 columns):\n",
            " #   Column       Non-Null Count  Dtype  \n",
            "---  ------       --------------  -----  \n",
            " 0   PassengerId  891 non-null    int64  \n",
            " 1   Survived     891 non-null    int64  \n",
            " 2   Pclass       891 non-null    int64  \n",
            " 3   Name         891 non-null    object \n",
            " 4   Sex          891 non-null    object \n",
            " 5   Age          714 non-null    float64\n",
            " 6   SibSp        891 non-null    int64  \n",
            " 7   Parch        891 non-null    int64  \n",
            " 8   Ticket       891 non-null    object \n",
            " 9   Fare         891 non-null    float64\n",
            " 10  Cabin        204 non-null    object \n",
            " 11  Embarked     889 non-null    object \n",
            "dtypes: float64(2), int64(5), object(5)\n",
            "memory usage: 83.7+ KB\n"
          ]
        }
      ]
    },
    {
      "cell_type": "code",
      "source": [
        "#df_train_original.describe()\n",
        "df_test_original.describe()"
      ],
      "metadata": {
        "colab": {
          "base_uri": "https://localhost:8080/",
          "height": 300
        },
        "id": "5g0XatpQ3p6Y",
        "outputId": "4db98bf8-d781-4c2f-deb8-61b1933e273b"
      },
      "execution_count": null,
      "outputs": [
        {
          "output_type": "execute_result",
          "data": {
            "text/plain": [
              "       PassengerId      Pclass         Age       SibSp       Parch        Fare\n",
              "count   418.000000  418.000000  332.000000  418.000000  418.000000  417.000000\n",
              "mean   1100.500000    2.265550   30.272590    0.447368    0.392344   35.627188\n",
              "std     120.810458    0.841838   14.181209    0.896760    0.981429   55.907576\n",
              "min     892.000000    1.000000    0.170000    0.000000    0.000000    0.000000\n",
              "25%     996.250000    1.000000   21.000000    0.000000    0.000000    7.895800\n",
              "50%    1100.500000    3.000000   27.000000    0.000000    0.000000   14.454200\n",
              "75%    1204.750000    3.000000   39.000000    1.000000    0.000000   31.500000\n",
              "max    1309.000000    3.000000   76.000000    8.000000    9.000000  512.329200"
            ],
            "text/html": [
              "\n",
              "  <div id=\"df-1c46134b-b106-497e-b9a9-f433876a1ee3\" class=\"colab-df-container\">\n",
              "    <div>\n",
              "<style scoped>\n",
              "    .dataframe tbody tr th:only-of-type {\n",
              "        vertical-align: middle;\n",
              "    }\n",
              "\n",
              "    .dataframe tbody tr th {\n",
              "        vertical-align: top;\n",
              "    }\n",
              "\n",
              "    .dataframe thead th {\n",
              "        text-align: right;\n",
              "    }\n",
              "</style>\n",
              "<table border=\"1\" class=\"dataframe\">\n",
              "  <thead>\n",
              "    <tr style=\"text-align: right;\">\n",
              "      <th></th>\n",
              "      <th>PassengerId</th>\n",
              "      <th>Pclass</th>\n",
              "      <th>Age</th>\n",
              "      <th>SibSp</th>\n",
              "      <th>Parch</th>\n",
              "      <th>Fare</th>\n",
              "    </tr>\n",
              "  </thead>\n",
              "  <tbody>\n",
              "    <tr>\n",
              "      <th>count</th>\n",
              "      <td>418.000000</td>\n",
              "      <td>418.000000</td>\n",
              "      <td>332.000000</td>\n",
              "      <td>418.000000</td>\n",
              "      <td>418.000000</td>\n",
              "      <td>417.000000</td>\n",
              "    </tr>\n",
              "    <tr>\n",
              "      <th>mean</th>\n",
              "      <td>1100.500000</td>\n",
              "      <td>2.265550</td>\n",
              "      <td>30.272590</td>\n",
              "      <td>0.447368</td>\n",
              "      <td>0.392344</td>\n",
              "      <td>35.627188</td>\n",
              "    </tr>\n",
              "    <tr>\n",
              "      <th>std</th>\n",
              "      <td>120.810458</td>\n",
              "      <td>0.841838</td>\n",
              "      <td>14.181209</td>\n",
              "      <td>0.896760</td>\n",
              "      <td>0.981429</td>\n",
              "      <td>55.907576</td>\n",
              "    </tr>\n",
              "    <tr>\n",
              "      <th>min</th>\n",
              "      <td>892.000000</td>\n",
              "      <td>1.000000</td>\n",
              "      <td>0.170000</td>\n",
              "      <td>0.000000</td>\n",
              "      <td>0.000000</td>\n",
              "      <td>0.000000</td>\n",
              "    </tr>\n",
              "    <tr>\n",
              "      <th>25%</th>\n",
              "      <td>996.250000</td>\n",
              "      <td>1.000000</td>\n",
              "      <td>21.000000</td>\n",
              "      <td>0.000000</td>\n",
              "      <td>0.000000</td>\n",
              "      <td>7.895800</td>\n",
              "    </tr>\n",
              "    <tr>\n",
              "      <th>50%</th>\n",
              "      <td>1100.500000</td>\n",
              "      <td>3.000000</td>\n",
              "      <td>27.000000</td>\n",
              "      <td>0.000000</td>\n",
              "      <td>0.000000</td>\n",
              "      <td>14.454200</td>\n",
              "    </tr>\n",
              "    <tr>\n",
              "      <th>75%</th>\n",
              "      <td>1204.750000</td>\n",
              "      <td>3.000000</td>\n",
              "      <td>39.000000</td>\n",
              "      <td>1.000000</td>\n",
              "      <td>0.000000</td>\n",
              "      <td>31.500000</td>\n",
              "    </tr>\n",
              "    <tr>\n",
              "      <th>max</th>\n",
              "      <td>1309.000000</td>\n",
              "      <td>3.000000</td>\n",
              "      <td>76.000000</td>\n",
              "      <td>8.000000</td>\n",
              "      <td>9.000000</td>\n",
              "      <td>512.329200</td>\n",
              "    </tr>\n",
              "  </tbody>\n",
              "</table>\n",
              "</div>\n",
              "    <div class=\"colab-df-buttons\">\n",
              "\n",
              "  <div class=\"colab-df-container\">\n",
              "    <button class=\"colab-df-convert\" onclick=\"convertToInteractive('df-1c46134b-b106-497e-b9a9-f433876a1ee3')\"\n",
              "            title=\"Convert this dataframe to an interactive table.\"\n",
              "            style=\"display:none;\">\n",
              "\n",
              "  <svg xmlns=\"http://www.w3.org/2000/svg\" height=\"24px\" viewBox=\"0 -960 960 960\">\n",
              "    <path d=\"M120-120v-720h720v720H120Zm60-500h600v-160H180v160Zm220 220h160v-160H400v160Zm0 220h160v-160H400v160ZM180-400h160v-160H180v160Zm440 0h160v-160H620v160ZM180-180h160v-160H180v160Zm440 0h160v-160H620v160Z\"/>\n",
              "  </svg>\n",
              "    </button>\n",
              "\n",
              "  <style>\n",
              "    .colab-df-container {\n",
              "      display:flex;\n",
              "      gap: 12px;\n",
              "    }\n",
              "\n",
              "    .colab-df-convert {\n",
              "      background-color: #E8F0FE;\n",
              "      border: none;\n",
              "      border-radius: 50%;\n",
              "      cursor: pointer;\n",
              "      display: none;\n",
              "      fill: #1967D2;\n",
              "      height: 32px;\n",
              "      padding: 0 0 0 0;\n",
              "      width: 32px;\n",
              "    }\n",
              "\n",
              "    .colab-df-convert:hover {\n",
              "      background-color: #E2EBFA;\n",
              "      box-shadow: 0px 1px 2px rgba(60, 64, 67, 0.3), 0px 1px 3px 1px rgba(60, 64, 67, 0.15);\n",
              "      fill: #174EA6;\n",
              "    }\n",
              "\n",
              "    .colab-df-buttons div {\n",
              "      margin-bottom: 4px;\n",
              "    }\n",
              "\n",
              "    [theme=dark] .colab-df-convert {\n",
              "      background-color: #3B4455;\n",
              "      fill: #D2E3FC;\n",
              "    }\n",
              "\n",
              "    [theme=dark] .colab-df-convert:hover {\n",
              "      background-color: #434B5C;\n",
              "      box-shadow: 0px 1px 3px 1px rgba(0, 0, 0, 0.15);\n",
              "      filter: drop-shadow(0px 1px 2px rgba(0, 0, 0, 0.3));\n",
              "      fill: #FFFFFF;\n",
              "    }\n",
              "  </style>\n",
              "\n",
              "    <script>\n",
              "      const buttonEl =\n",
              "        document.querySelector('#df-1c46134b-b106-497e-b9a9-f433876a1ee3 button.colab-df-convert');\n",
              "      buttonEl.style.display =\n",
              "        google.colab.kernel.accessAllowed ? 'block' : 'none';\n",
              "\n",
              "      async function convertToInteractive(key) {\n",
              "        const element = document.querySelector('#df-1c46134b-b106-497e-b9a9-f433876a1ee3');\n",
              "        const dataTable =\n",
              "          await google.colab.kernel.invokeFunction('convertToInteractive',\n",
              "                                                    [key], {});\n",
              "        if (!dataTable) return;\n",
              "\n",
              "        const docLinkHtml = 'Like what you see? Visit the ' +\n",
              "          '<a target=\"_blank\" href=https://colab.research.google.com/notebooks/data_table.ipynb>data table notebook</a>'\n",
              "          + ' to learn more about interactive tables.';\n",
              "        element.innerHTML = '';\n",
              "        dataTable['output_type'] = 'display_data';\n",
              "        await google.colab.output.renderOutput(dataTable, element);\n",
              "        const docLink = document.createElement('div');\n",
              "        docLink.innerHTML = docLinkHtml;\n",
              "        element.appendChild(docLink);\n",
              "      }\n",
              "    </script>\n",
              "  </div>\n",
              "\n",
              "\n",
              "    <div id=\"df-13140448-d43c-44aa-885c-31ffa9c99261\">\n",
              "      <button class=\"colab-df-quickchart\" onclick=\"quickchart('df-13140448-d43c-44aa-885c-31ffa9c99261')\"\n",
              "                title=\"Suggest charts\"\n",
              "                style=\"display:none;\">\n",
              "\n",
              "<svg xmlns=\"http://www.w3.org/2000/svg\" height=\"24px\"viewBox=\"0 0 24 24\"\n",
              "     width=\"24px\">\n",
              "    <g>\n",
              "        <path d=\"M19 3H5c-1.1 0-2 .9-2 2v14c0 1.1.9 2 2 2h14c1.1 0 2-.9 2-2V5c0-1.1-.9-2-2-2zM9 17H7v-7h2v7zm4 0h-2V7h2v10zm4 0h-2v-4h2v4z\"/>\n",
              "    </g>\n",
              "</svg>\n",
              "      </button>\n",
              "\n",
              "<style>\n",
              "  .colab-df-quickchart {\n",
              "      --bg-color: #E8F0FE;\n",
              "      --fill-color: #1967D2;\n",
              "      --hover-bg-color: #E2EBFA;\n",
              "      --hover-fill-color: #174EA6;\n",
              "      --disabled-fill-color: #AAA;\n",
              "      --disabled-bg-color: #DDD;\n",
              "  }\n",
              "\n",
              "  [theme=dark] .colab-df-quickchart {\n",
              "      --bg-color: #3B4455;\n",
              "      --fill-color: #D2E3FC;\n",
              "      --hover-bg-color: #434B5C;\n",
              "      --hover-fill-color: #FFFFFF;\n",
              "      --disabled-bg-color: #3B4455;\n",
              "      --disabled-fill-color: #666;\n",
              "  }\n",
              "\n",
              "  .colab-df-quickchart {\n",
              "    background-color: var(--bg-color);\n",
              "    border: none;\n",
              "    border-radius: 50%;\n",
              "    cursor: pointer;\n",
              "    display: none;\n",
              "    fill: var(--fill-color);\n",
              "    height: 32px;\n",
              "    padding: 0;\n",
              "    width: 32px;\n",
              "  }\n",
              "\n",
              "  .colab-df-quickchart:hover {\n",
              "    background-color: var(--hover-bg-color);\n",
              "    box-shadow: 0 1px 2px rgba(60, 64, 67, 0.3), 0 1px 3px 1px rgba(60, 64, 67, 0.15);\n",
              "    fill: var(--button-hover-fill-color);\n",
              "  }\n",
              "\n",
              "  .colab-df-quickchart-complete:disabled,\n",
              "  .colab-df-quickchart-complete:disabled:hover {\n",
              "    background-color: var(--disabled-bg-color);\n",
              "    fill: var(--disabled-fill-color);\n",
              "    box-shadow: none;\n",
              "  }\n",
              "\n",
              "  .colab-df-spinner {\n",
              "    border: 2px solid var(--fill-color);\n",
              "    border-color: transparent;\n",
              "    border-bottom-color: var(--fill-color);\n",
              "    animation:\n",
              "      spin 1s steps(1) infinite;\n",
              "  }\n",
              "\n",
              "  @keyframes spin {\n",
              "    0% {\n",
              "      border-color: transparent;\n",
              "      border-bottom-color: var(--fill-color);\n",
              "      border-left-color: var(--fill-color);\n",
              "    }\n",
              "    20% {\n",
              "      border-color: transparent;\n",
              "      border-left-color: var(--fill-color);\n",
              "      border-top-color: var(--fill-color);\n",
              "    }\n",
              "    30% {\n",
              "      border-color: transparent;\n",
              "      border-left-color: var(--fill-color);\n",
              "      border-top-color: var(--fill-color);\n",
              "      border-right-color: var(--fill-color);\n",
              "    }\n",
              "    40% {\n",
              "      border-color: transparent;\n",
              "      border-right-color: var(--fill-color);\n",
              "      border-top-color: var(--fill-color);\n",
              "    }\n",
              "    60% {\n",
              "      border-color: transparent;\n",
              "      border-right-color: var(--fill-color);\n",
              "    }\n",
              "    80% {\n",
              "      border-color: transparent;\n",
              "      border-right-color: var(--fill-color);\n",
              "      border-bottom-color: var(--fill-color);\n",
              "    }\n",
              "    90% {\n",
              "      border-color: transparent;\n",
              "      border-bottom-color: var(--fill-color);\n",
              "    }\n",
              "  }\n",
              "</style>\n",
              "\n",
              "      <script>\n",
              "        async function quickchart(key) {\n",
              "          const quickchartButtonEl =\n",
              "            document.querySelector('#' + key + ' button');\n",
              "          quickchartButtonEl.disabled = true;  // To prevent multiple clicks.\n",
              "          quickchartButtonEl.classList.add('colab-df-spinner');\n",
              "          try {\n",
              "            const charts = await google.colab.kernel.invokeFunction(\n",
              "                'suggestCharts', [key], {});\n",
              "          } catch (error) {\n",
              "            console.error('Error during call to suggestCharts:', error);\n",
              "          }\n",
              "          quickchartButtonEl.classList.remove('colab-df-spinner');\n",
              "          quickchartButtonEl.classList.add('colab-df-quickchart-complete');\n",
              "        }\n",
              "        (() => {\n",
              "          let quickchartButtonEl =\n",
              "            document.querySelector('#df-13140448-d43c-44aa-885c-31ffa9c99261 button');\n",
              "          quickchartButtonEl.style.display =\n",
              "            google.colab.kernel.accessAllowed ? 'block' : 'none';\n",
              "        })();\n",
              "      </script>\n",
              "    </div>\n",
              "\n",
              "    </div>\n",
              "  </div>\n"
            ],
            "application/vnd.google.colaboratory.intrinsic+json": {
              "type": "dataframe",
              "summary": "{\n  \"name\": \"df_test_original\",\n  \"rows\": 8,\n  \"fields\": [\n    {\n      \"column\": \"PassengerId\",\n      \"properties\": {\n        \"dtype\": \"number\",\n        \"std\": 412.1232851470217,\n        \"min\": 120.81045760473994,\n        \"max\": 1309.0,\n        \"num_unique_values\": 7,\n        \"samples\": [\n          418.0,\n          1100.5,\n          1204.75\n        ],\n        \"semantic_type\": \"\",\n        \"description\": \"\"\n      }\n    },\n    {\n      \"column\": \"Pclass\",\n      \"properties\": {\n        \"dtype\": \"number\",\n        \"std\": 147.0758997861715,\n        \"min\": 0.8418375519640519,\n        \"max\": 418.0,\n        \"num_unique_values\": 5,\n        \"samples\": [\n          2.2655502392344498,\n          3.0,\n          0.8418375519640519\n        ],\n        \"semantic_type\": \"\",\n        \"description\": \"\"\n      }\n    },\n    {\n      \"column\": \"Age\",\n      \"properties\": {\n        \"dtype\": \"number\",\n        \"std\": 109.15868834351015,\n        \"min\": 0.17,\n        \"max\": 332.0,\n        \"num_unique_values\": 8,\n        \"samples\": [\n          30.272590361445783,\n          27.0,\n          332.0\n        ],\n        \"semantic_type\": \"\",\n        \"description\": \"\"\n      }\n    },\n    {\n      \"column\": \"SibSp\",\n      \"properties\": {\n        \"dtype\": \"number\",\n        \"std\": 147.2874584027116,\n        \"min\": 0.0,\n        \"max\": 418.0,\n        \"num_unique_values\": 6,\n        \"samples\": [\n          418.0,\n          0.4473684210526316,\n          8.0\n        ],\n        \"semantic_type\": \"\",\n        \"description\": \"\"\n      }\n    },\n    {\n      \"column\": \"Parch\",\n      \"properties\": {\n        \"dtype\": \"number\",\n        \"std\": 147.29373273558994,\n        \"min\": 0.0,\n        \"max\": 418.0,\n        \"num_unique_values\": 5,\n        \"samples\": [\n          0.3923444976076555,\n          9.0,\n          0.9814288785371684\n        ],\n        \"semantic_type\": \"\",\n        \"description\": \"\"\n      }\n    },\n    {\n      \"column\": \"Fare\",\n      \"properties\": {\n        \"dtype\": \"number\",\n        \"std\": 206.20808392426468,\n        \"min\": 0.0,\n        \"max\": 512.3292,\n        \"num_unique_values\": 8,\n        \"samples\": [\n          35.627188489208635,\n          14.4542,\n          417.0\n        ],\n        \"semantic_type\": \"\",\n        \"description\": \"\"\n      }\n    }\n  ]\n}"
            }
          },
          "metadata": {},
          "execution_count": 4
        }
      ]
    },
    {
      "cell_type": "code",
      "source": [
        "df_test_original.info()"
      ],
      "metadata": {
        "colab": {
          "base_uri": "https://localhost:8080/"
        },
        "collapsed": true,
        "id": "iZdiRojB3yEy",
        "outputId": "cb4e3f54-097a-44b5-858e-be1c95f88407"
      },
      "execution_count": null,
      "outputs": [
        {
          "output_type": "stream",
          "name": "stdout",
          "text": [
            "<class 'pandas.core.frame.DataFrame'>\n",
            "RangeIndex: 418 entries, 0 to 417\n",
            "Data columns (total 11 columns):\n",
            " #   Column       Non-Null Count  Dtype  \n",
            "---  ------       --------------  -----  \n",
            " 0   PassengerId  418 non-null    int64  \n",
            " 1   Pclass       418 non-null    int64  \n",
            " 2   Name         418 non-null    object \n",
            " 3   Sex          418 non-null    object \n",
            " 4   Age          332 non-null    float64\n",
            " 5   SibSp        418 non-null    int64  \n",
            " 6   Parch        418 non-null    int64  \n",
            " 7   Ticket       418 non-null    object \n",
            " 8   Fare         417 non-null    float64\n",
            " 9   Cabin        91 non-null     object \n",
            " 10  Embarked     418 non-null    object \n",
            "dtypes: float64(2), int64(4), object(5)\n",
            "memory usage: 36.1+ KB\n"
          ]
        }
      ]
    },
    {
      "cell_type": "markdown",
      "source": [
        "### EDA"
      ],
      "metadata": {
        "id": "tPeKLw3okHUN"
      }
    },
    {
      "cell_type": "markdown",
      "source": [
        "#### Establishing base survival rates across different features"
      ],
      "metadata": {
        "id": "L1IzlDah2h02"
      }
    },
    {
      "cell_type": "code",
      "source": [
        "# Print what percent survived\n",
        "print(df_train_original['Survived'].mean())"
      ],
      "metadata": {
        "colab": {
          "base_uri": "https://localhost:8080/"
        },
        "id": "Esj1zWTh3C99",
        "outputId": "a544a36b-4e67-4f72-e246-e624375d51fb"
      },
      "execution_count": null,
      "outputs": [
        {
          "output_type": "stream",
          "name": "stdout",
          "text": [
            "0.3838383838383838\n"
          ]
        }
      ]
    },
    {
      "cell_type": "code",
      "source": [
        "# Print what percent survived by Sex\n",
        "print(df_train_original.groupby('Sex')['Survived'].mean())"
      ],
      "metadata": {
        "colab": {
          "base_uri": "https://localhost:8080/"
        },
        "id": "QJ-PVMfK2luD",
        "outputId": "7f0a6a8c-ae9b-4ed8-ac5b-330dfc9f4970"
      },
      "execution_count": null,
      "outputs": [
        {
          "output_type": "stream",
          "name": "stdout",
          "text": [
            "Sex\n",
            "female    0.742038\n",
            "male      0.188908\n",
            "Name: Survived, dtype: float64\n"
          ]
        }
      ]
    },
    {
      "cell_type": "code",
      "source": [
        "# Print what percent survived by Pclass\n",
        "print(df_train_original.groupby('Pclass')['Survived'].mean())"
      ],
      "metadata": {
        "colab": {
          "base_uri": "https://localhost:8080/"
        },
        "id": "BPFYdKck2tq7",
        "outputId": "fb51b596-71ce-4da9-e4bf-9ece10dc0a77"
      },
      "execution_count": null,
      "outputs": [
        {
          "output_type": "stream",
          "name": "stdout",
          "text": [
            "Pclass\n",
            "1    0.629630\n",
            "2    0.472826\n",
            "3    0.242363\n",
            "Name: Survived, dtype: float64\n"
          ]
        }
      ]
    },
    {
      "cell_type": "code",
      "source": [
        "# Print what percent survived by Age decile\n",
        "df_train_original['Age_Decile'] = pd.qcut(df_train_original['Age'], 10, labels=False, duplicates='drop')\n",
        "print(df_train_original.groupby('Age_Decile')['Survived'].mean())"
      ],
      "metadata": {
        "colab": {
          "base_uri": "https://localhost:8080/"
        },
        "id": "2z60fA2_29Rx",
        "outputId": "e85a0a08-121d-4696-db16-6cfb70a18168"
      },
      "execution_count": null,
      "outputs": [
        {
          "output_type": "stream",
          "name": "stdout",
          "text": [
            "Age_Decile\n",
            "0.0    0.584416\n",
            "1.0    0.390805\n",
            "2.0    0.283582\n",
            "3.0    0.371429\n",
            "4.0    0.393443\n",
            "5.0    0.393939\n",
            "6.0    0.483516\n",
            "7.0    0.358491\n",
            "8.0    0.397436\n",
            "9.0    0.343750\n",
            "Name: Survived, dtype: float64\n"
          ]
        }
      ]
    },
    {
      "cell_type": "markdown",
      "source": [
        "#### Cabin\n",
        "\n",
        "**TAKEAWAY:** There is not much information the variable \"Cabin\" gives us in addition to Pclass. The deck level doesn't or room number doesn't neccessarily give us much information on survival rate. There is a lot of missing samples here so it may be best to eliminate this variable."
      ],
      "metadata": {
        "id": "db3hcAiCmCK-"
      }
    },
    {
      "cell_type": "markdown",
      "source": [
        "#### Other EDA"
      ],
      "metadata": {
        "id": "HD9HQoAfyakM"
      }
    },
    {
      "cell_type": "code",
      "source": [
        "# Plot Pclass vs Survived\n",
        "plt.figure(figsize=(12, 6))\n",
        "sns.countplot(x='Pclass', hue='Survived', data=df_train_original)"
      ],
      "metadata": {
        "colab": {
          "base_uri": "https://localhost:8080/"
        },
        "id": "BZnjb70OyeE0",
        "outputId": "512633e3-d253-46ec-c1c5-a991a7215fee"
      },
      "execution_count": null,
      "outputs": [
        {
          "output_type": "execute_result",
          "data": {
            "text/plain": [
              "<Axes: xlabel='Pclass', ylabel='count'>"
            ]
          },
          "metadata": {},
          "execution_count": 10
        },
        {
          "output_type": "display_data",
          "data": {
            "text/plain": [
              "<Figure size 1200x600 with 1 Axes>"
            ],
            "image/png": "[encoded data removed]"
          },
          "metadata": {}
        }
      ]
    },
    {
      "cell_type": "code",
      "source": [
        "# Plot Embarked vs Survived\n",
        "plt.figure(figsize=(12, 6))\n",
        "sns.countplot(x='Embarked', hue='Survived', data=df_train_original)"
      ],
      "metadata": {
        "colab": {
          "base_uri": "https://localhost:8080/"
        },
        "id": "TjqZu6fFymDi",
        "outputId": "fe8710e1-0169-47b5-b860-e35e472860ec"
      },
      "execution_count": null,
      "outputs": [
        {
          "output_type": "execute_result",
          "data": {
            "text/plain": [
              "<Axes: xlabel='Embarked', ylabel='count'>"
            ]
          },
          "metadata": {},
          "execution_count": 11
        },
        {
          "output_type": "display_data",
          "data": {
            "text/plain": [
              "<Figure size 1200x600 with 1 Axes>"
            ],
            "image/png": "[encoded data removed]"
          },
          "metadata": {}
        }
      ]
    },
    {
      "cell_type": "code",
      "source": [
        "# Plot Embarked vs Survived faceted by Survived\n",
        "g = sns.catplot(\n",
        "    x='Embarked', hue='Pclass', col='Survived',\n",
        "    kind='count', data=df_train_original,\n",
        "    height=6, aspect=1\n",
        ")\n",
        "g.set_titles(\"Survived = {col_name}\")\n",
        "g.set_axis_labels(\"Embarked\", \"Number of Passengers\")\n",
        "plt.show()"
      ],
      "metadata": {
        "colab": {
          "base_uri": "https://localhost:8080/"
        },
        "id": "vQw84CXhyupt",
        "outputId": "0062c3ca-60ea-4835-eb15-03fec0ba1068"
      },
      "execution_count": null,
      "outputs": [
        {
          "output_type": "display_data",
          "data": {
            "text/plain": [
              "<Figure size 1264.75x600 with 2 Axes>"
            ],
            "image/png": "[encoded data removed]"
          },
          "metadata": {}
        }
      ]
    },
    {
      "cell_type": "code",
      "source": [
        "# Plot Age vs Pclass\n",
        "plt.figure(figsize=(12, 6))\n",
        "sns.boxplot(x='Pclass', y='Age', data=df_train_original)"
      ],
      "metadata": {
        "colab": {
          "base_uri": "https://localhost:8080/"
        },
        "id": "I68L3_cvzUKf",
        "outputId": "63350057-44bc-4a20-c71e-89875a5e8479"
      },
      "execution_count": null,
      "outputs": [
        {
          "output_type": "execute_result",
          "data": {
            "text/plain": [
              "<Axes: xlabel='Pclass', ylabel='Age'>"
            ]
          },
          "metadata": {},
          "execution_count": 13
        },
        {
          "output_type": "display_data",
          "data": {
            "text/plain": [
              "<Figure size 1200x600 with 1 Axes>"
            ],
            "image/png": "[encoded data removed]"
          },
          "metadata": {}
        }
      ]
    },
    {
      "cell_type": "code",
      "source": [
        "# Plot Age vs Survived\n",
        "plt.figure(figsize=(12, 6))\n",
        "sns.boxplot(x='Survived', y='Age', data=df_train_original)"
      ],
      "metadata": {
        "colab": {
          "base_uri": "https://localhost:8080/"
        },
        "id": "b8_AdbfDzXBP",
        "outputId": "f79fadec-5d1c-4978-fba2-6f899feb9972"
      },
      "execution_count": null,
      "outputs": [
        {
          "output_type": "execute_result",
          "data": {
            "text/plain": [
              "<Axes: xlabel='Survived', ylabel='Age'>"
            ]
          },
          "metadata": {},
          "execution_count": 14
        },
        {
          "output_type": "display_data",
          "data": {
            "text/plain": [
              "<Figure size 1200x600 with 1 Axes>"
            ],
            "image/png": "[encoded data removed]"
          },
          "metadata": {}
        }
      ]
    },
    {
      "cell_type": "code",
      "source": [
        "# Plot Age (decile) vs Survived faceted by Sex\n",
        "\n",
        "# 1. Create Age Deciles\n",
        "df_train_original['Age_Decile'] = pd.qcut(df_train_original['Age'], 10, labels=False, duplicates='drop')\n",
        "\n",
        "# 2. Get Age Range Labels\n",
        "age_ranges = df_train_original.groupby('Age_Decile')['Age'].agg(['min', 'max'])\n",
        "x_labels = [f\"{int(row['min'])}-{int(row['max'])}\" for _, row in age_ranges.iterrows()]\n",
        "\n",
        "# 3. Group by Sex, Age_Decile, and Survived\n",
        "age_survival_counts = df_train_original.groupby(['Sex', 'Age_Decile', 'Survived'], observed=True).size().reset_index(name='Count')\n",
        "\n",
        "# 4. Plotting\n",
        "g = sns.catplot(\n",
        "    data=age_survival_counts, kind='bar',\n",
        "    x='Age_Decile', y='Count', hue='Survived', col='Sex',\n",
        "    height=6, aspect=1, palette={0: 'salmon', 1: 'skyblue'}\n",
        ")\n",
        "\n",
        "# 5. Customize\n",
        "g.set_titles(\"Sex = {col_name}\")\n",
        "g.set_axis_labels(\"Age Range\", \"Number of Passengers\")\n",
        "g.set_xticklabels(x_labels, rotation=45)\n",
        "plt.show()"
      ],
      "metadata": {
        "colab": {
          "base_uri": "https://localhost:8080/"
        },
        "id": "5c5kuC7707Kf",
        "outputId": "1846fb2a-4eeb-42e2-fcc3-26b5aab6d73d"
      },
      "execution_count": null,
      "outputs": [
        {
          "output_type": "display_data",
          "data": {
            "text/plain": [
              "<Figure size 1285.22x600 with 2 Axes>"
            ],
            "image/png": "[encoded data removed]"
          },
          "metadata": {}
        }
      ]
    },
    {
      "cell_type": "code",
      "source": [
        "# Plot SibSp vs Survived\n",
        "plt.figure(figsize=(12, 6))\n",
        "sns.countplot(x='SibSp', hue='Survived', data=df_train_original)"
      ],
      "metadata": {
        "colab": {
          "base_uri": "https://localhost:8080/"
        },
        "id": "nHx91dXo10cH",
        "outputId": "59ef8d97-0305-40a5-ac1f-9d1d4cd69926"
      },
      "execution_count": null,
      "outputs": [
        {
          "output_type": "execute_result",
          "data": {
            "text/plain": [
              "<Axes: xlabel='SibSp', ylabel='count'>"
            ]
          },
          "metadata": {},
          "execution_count": 16
        },
        {
          "output_type": "display_data",
          "data": {
            "text/plain": [
              "<Figure size 1200x600 with 1 Axes>"
            ],
            "image/png": "[encoded data removed]"
          },
          "metadata": {}
        }
      ]
    },
    {
      "cell_type": "markdown",
      "source": [
        "### Merge and clean data"
      ],
      "metadata": {
        "id": "1qYOaGDQ36QE"
      }
    },
    {
      "cell_type": "markdown",
      "source": [
        "#### Merge data"
      ],
      "metadata": {
        "id": "8S0tAs_v5CpQ"
      }
    },
    {
      "cell_type": "code",
      "source": [
        "# Restoring original train data.\n",
        "df_train_original = pd.read_csv('train.csv')\n",
        "\n",
        "# Create working datasets\n",
        "df_train = df_train_original\n",
        "df_test = df_test_original\n",
        "\n",
        "# Add a variable to both df_train and df_test indicating whether train or test dataset\n",
        "df_train['TestYes'] = 0\n",
        "df_test['TestYes'] = 1\n",
        "\n",
        "# Create merged dataset used to cleanup data\n",
        "df_merged = pd.concat([df_train, df_test], ignore_index=True)"
      ],
      "metadata": {
        "id": "rt6EzC5S3_qW"
      },
      "execution_count": null,
      "outputs": []
    },
    {
      "cell_type": "code",
      "source": [
        "df_merged.info()"
      ],
      "metadata": {
        "colab": {
          "base_uri": "https://localhost:8080/"
        },
        "collapsed": true,
        "id": "k9NeZsea5aV0",
        "outputId": "7e8b882c-6a6e-4aa0-a2a5-dbc5dfea02b4"
      },
      "execution_count": null,
      "outputs": [
        {
          "output_type": "stream",
          "name": "stdout",
          "text": [
            "<class 'pandas.core.frame.DataFrame'>\n",
            "RangeIndex: 1309 entries, 0 to 1308\n",
            "Data columns (total 13 columns):\n",
            " #   Column       Non-Null Count  Dtype  \n",
            "---  ------       --------------  -----  \n",
            " 0   PassengerId  1309 non-null   int64  \n",
            " 1   Survived     891 non-null    float64\n",
            " 2   Pclass       1309 non-null   int64  \n",
            " 3   Name         1309 non-null   object \n",
            " 4   Sex          1309 non-null   object \n",
            " 5   Age          1046 non-null   float64\n",
            " 6   SibSp        1309 non-null   int64  \n",
            " 7   Parch        1309 non-null   int64  \n",
            " 8   Ticket       1309 non-null   object \n",
            " 9   Fare         1308 non-null   float64\n",
            " 10  Cabin        295 non-null    object \n",
            " 11  Embarked     1307 non-null   object \n",
            " 12  TestYes      1309 non-null   int64  \n",
            "dtypes: float64(3), int64(5), object(5)\n",
            "memory usage: 133.1+ KB\n"
          ]
        }
      ]
    },
    {
      "cell_type": "markdown",
      "source": [
        "#### Creating a variable for ticket type"
      ],
      "metadata": {
        "id": "peYgj7IrYUD5"
      }
    },
    {
      "cell_type": "code",
      "source": [
        "# Split numeric text into a seperate Ticket feature\n",
        "df_merged['Ticket_Number'] = df_merged['Ticket'].str.extract(r'(\\d+)$')\n",
        "df_merged['Ticket_Group'] = df_merged['Ticket'].str.replace(r'\\d+$', '', regex=True)\n",
        "df_merged['Ticket_Group'] = df_merged['Ticket_Group'].str.replace(' ', '', regex=False)"
      ],
      "metadata": {
        "id": "zL-YIAfbYW23"
      },
      "execution_count": null,
      "outputs": []
    },
    {
      "cell_type": "code",
      "source": [
        "# If 'Ticket_Number' is N/A set to 0\n",
        "df_merged['Ticket_Number'] = df_merged['Ticket_Number'].fillna(0)\n",
        "\n",
        "# If 'Ticket_Group' is \" \" set to \"Regular\"\n",
        "df_merged['Ticket_Group'] = df_merged['Ticket_Group'].replace(r'^\\s*$', 'Regular', regex=True)"
      ],
      "metadata": {
        "id": "KP4H6Vk4aOvw"
      },
      "execution_count": null,
      "outputs": []
    },
    {
      "cell_type": "code",
      "source": [
        "# Plot median fares of all ticket_group that start with \"A\"\n",
        "plt.figure(figsize=(12, 6))\n",
        "sns.boxplot(x='Ticket_Group', y='Fare', data=df_merged[df_merged['Ticket_Group'].str.startswith('A')])\n",
        "plt.title('Median Fare by Ticket Group')"
      ],
      "metadata": {
        "colab": {
          "base_uri": "https://localhost:8080/"
        },
        "id": "pWLsu-5ub6Qw",
        "outputId": "6e527a2b-1534-4b61-ef63-3355079b0bd0"
      },
      "execution_count": null,
      "outputs": [
        {
          "output_type": "execute_result",
          "data": {
            "text/plain": [
              "Text(0.5, 1.0, 'Median Fare by Ticket Group')"
            ]
          },
          "metadata": {},
          "execution_count": 21
        },
        {
          "output_type": "display_data",
          "data": {
            "text/plain": [
              "<Figure size 1200x600 with 1 Axes>"
            ],
            "image/png": "[encoded data removed]"
          },
          "metadata": {}
        }
      ]
    },
    {
      "cell_type": "code",
      "source": [
        "# Merge all Ticket_Group that start with \"A\"\n",
        "df_merged.loc[df_merged['Ticket_Group'].str.startswith('A', na=False), 'Ticket_Group'] = 'A'\n",
        "\n",
        "# Merge Ticket_Group \"C.A.\", \"CA.\", \"CA\", \"C.A./SOTON\" into \"CA\"\n",
        "df_merged['Ticket_Group'] = df_merged['Ticket_Group'].replace(['C.A.', 'CA.', 'CA', 'C.A./SOTON'], 'CA')\n",
        "\n",
        "# Merge Ticket_Group \"SOTON/O.Q.\", \"SOTON/O2\" and \"SOTON/OQ\" into \"SOTON/OQ\"\n",
        "df_merged['Ticket_Group'] = df_merged['Ticket_Group'].replace(['SOTON/O.Q.', 'SOTON/OQ', 'SOTON/O2'], 'SOTON/OQ')\n",
        "\n",
        "# Merge SC/PARIS, SC/Paris, S.C./PARIS → SC/PARIS\n",
        "df_merged['Ticket_Group'] = df_merged['Ticket_Group'].replace(['SC/PARIS', 'SC/Paris', 'S.C./PARIS'], 'SC/PARIS')\n",
        "\n",
        "\n",
        "# Merge all other Ticket_Group values into \"OTHER\"\n",
        "# other_ticket_groups = df_merged['Ticket_Group'].unique()\n",
        "# other_ticket_groups = other_ticket_groups[~pd.Series(other_ticket_groups).isin(['A/5', 'A/4', 'CA', 'SOTON/OQ', 'Regular', 'STON/O2.', 'SC/PARIS'])]\n",
        "# df_merged['Ticket_Group'] = df_merged['Ticket_Group'].replace(other_ticket_groups, 'OTHER')\n"
      ],
      "metadata": {
        "id": "9ohIGDHEcD4e"
      },
      "execution_count": null,
      "outputs": []
    },
    {
      "cell_type": "code",
      "source": [
        "# Plot fare vs ticket type\n",
        "plt.figure(figsize=(12, 6))\n",
        "sns.boxplot(x='Ticket_Group', y='Fare', data=df_merged)\n",
        "plt.xticks(rotation=45, ha='right')  # Rotate x-axis labels by 45 degrees\n",
        "plt.title('Fare Distribution by Ticket Group') # Adding a title for better clarity\n",
        "plt.xlabel('Ticket Group')\n",
        "plt.ylabel('Fare')\n",
        "plt.ylim(0,50)\n",
        "plt.axhline(y=15, color='red', linestyle='--', label='Fare = 15')\n",
        "plt.show()"
      ],
      "metadata": {
        "colab": {
          "base_uri": "https://localhost:8080/"
        },
        "id": "ReGh5To_i7RY",
        "outputId": "3bd59b88-3865-4e67-9459-d6814abc8b7f"
      },
      "execution_count": null,
      "outputs": [
        {
          "output_type": "display_data",
          "data": {
            "text/plain": [
              "<Figure size 1200x600 with 1 Axes>"
            ],
            "image/png": "[encoded data removed]"
          },
          "metadata": {}
        }
      ]
    },
    {
      "cell_type": "code",
      "source": [
        "# Merge other ticket groups with fare under 20\n",
        "df_merged['Ticket_Group'] = df_merged['Ticket_Group'].replace([\n",
        "    'LP', 'SC/A4', 'STON/OQ.', 'W/C', 'SW/PP', 'STON/O2.', 'SOTON/OQ', 'SO/C',\n",
        "    'SCO/W', 'SC', 'S.W./PP', 'S.P.', 'S.O.P.', 'S.O./P.P.', 'S.C./A.4.', 'Fa',\n",
        "    'SC/AHBasle', 'SC/A.3', 'PP', 'C'\n",
        "], 'Other_under20')"
      ],
      "metadata": {
        "id": "si6ronUai88V"
      },
      "execution_count": null,
      "outputs": []
    },
    {
      "cell_type": "code",
      "source": [
        "# Count by Ticket_Group\n",
        "df_merged['Ticket_Group'].value_counts()"
      ],
      "metadata": {
        "colab": {
          "base_uri": "https://localhost:8080/"
        },
        "id": "G-F-JmxXZaxb",
        "outputId": "a5eb74ab-a441-4890-e326-660dc78fab10"
      },
      "execution_count": null,
      "outputs": [
        {
          "output_type": "execute_result",
          "data": {
            "text/plain": [
              "Ticket_Group\n",
              "Regular          957\n",
              "PC                92\n",
              "Other_under20     83\n",
              "CA                69\n",
              "A                 42\n",
              "SC/PARIS          19\n",
              "W./C.             14\n",
              "F.C.C.             9\n",
              "S.O.C.             7\n",
              "SC/AH              4\n",
              "LINE               4\n",
              "F.C.               3\n",
              "P/PP               2\n",
              "W.E.P.             2\n",
              "WE/P               2\n",
              "Name: count, dtype: int64"
            ],
            "text/html": [
              "<div>\n",
              "<style scoped>\n",
              "    .dataframe tbody tr th:only-of-type {\n",
              "        vertical-align: middle;\n",
              "    }\n",
              "\n",
              "    .dataframe tbody tr th {\n",
              "        vertical-align: top;\n",
              "    }\n",
              "\n",
              "    .dataframe thead th {\n",
              "        text-align: right;\n",
              "    }\n",
              "</style>\n",
              "<table border=\"1\" class=\"dataframe\">\n",
              "  <thead>\n",
              "    <tr style=\"text-align: right;\">\n",
              "      <th></th>\n",
              "      <th>count</th>\n",
              "    </tr>\n",
              "    <tr>\n",
              "      <th>Ticket_Group</th>\n",
              "      <th></th>\n",
              "    </tr>\n",
              "  </thead>\n",
              "  <tbody>\n",
              "    <tr>\n",
              "      <th>Regular</th>\n",
              "      <td>957</td>\n",
              "    </tr>\n",
              "    <tr>\n",
              "      <th>PC</th>\n",
              "      <td>92</td>\n",
              "    </tr>\n",
              "    <tr>\n",
              "      <th>Other_under20</th>\n",
              "      <td>83</td>\n",
              "    </tr>\n",
              "    <tr>\n",
              "      <th>CA</th>\n",
              "      <td>69</td>\n",
              "    </tr>\n",
              "    <tr>\n",
              "      <th>A</th>\n",
              "      <td>42</td>\n",
              "    </tr>\n",
              "    <tr>\n",
              "      <th>SC/PARIS</th>\n",
              "      <td>19</td>\n",
              "    </tr>\n",
              "    <tr>\n",
              "      <th>W./C.</th>\n",
              "      <td>14</td>\n",
              "    </tr>\n",
              "    <tr>\n",
              "      <th>F.C.C.</th>\n",
              "      <td>9</td>\n",
              "    </tr>\n",
              "    <tr>\n",
              "      <th>S.O.C.</th>\n",
              "      <td>7</td>\n",
              "    </tr>\n",
              "    <tr>\n",
              "      <th>SC/AH</th>\n",
              "      <td>4</td>\n",
              "    </tr>\n",
              "    <tr>\n",
              "      <th>LINE</th>\n",
              "      <td>4</td>\n",
              "    </tr>\n",
              "    <tr>\n",
              "      <th>F.C.</th>\n",
              "      <td>3</td>\n",
              "    </tr>\n",
              "    <tr>\n",
              "      <th>P/PP</th>\n",
              "      <td>2</td>\n",
              "    </tr>\n",
              "    <tr>\n",
              "      <th>W.E.P.</th>\n",
              "      <td>2</td>\n",
              "    </tr>\n",
              "    <tr>\n",
              "      <th>WE/P</th>\n",
              "      <td>2</td>\n",
              "    </tr>\n",
              "  </tbody>\n",
              "</table>\n",
              "</div><br><label><b>dtype:</b> int64</label>"
            ]
          },
          "metadata": {},
          "execution_count": 25
        }
      ]
    },
    {
      "cell_type": "code",
      "source": [
        "# Describe fare for all Ticket Groups\n",
        "df_merged.groupby('Ticket_Group')['Fare'].describe().sort_values(by='mean', ascending=False)"
      ],
      "metadata": {
        "colab": {
          "base_uri": "https://localhost:8080/"
        },
        "id": "OyUAc_e3kEC1",
        "outputId": "00ac009f-5c57-4e80-c3b8-77e3a8ede42e"
      },
      "execution_count": null,
      "outputs": [
        {
          "output_type": "execute_result",
          "data": {
            "text/plain": [
              "               count        mean         std      min        25%      50%  \\\n",
              "Ticket_Group                                                                \n",
              "PC              92.0  126.336726  113.567462  25.9250  47.028150  80.6854   \n",
              "S.O.C.           7.0   73.500000    0.000000  73.5000  73.500000  73.5000   \n",
              "WE/P             2.0   71.000000    0.000000  71.0000  71.000000  71.0000   \n",
              "W.E.P.           2.0   61.175000    0.000000  61.1750  61.175000  61.1750   \n",
              "F.C.             3.0   43.247233   15.160237  25.7417  38.870850  52.0000   \n",
              "CA              69.0   29.983877   20.975517   7.5500  10.500000  21.0000   \n",
              "Regular        956.0   27.810364   37.887928   0.0000   7.885425  13.0000   \n",
              "SC/AH            4.0   26.000000    0.000000  26.0000  26.000000  26.0000   \n",
              "SC/PARIS        19.0   24.892105   12.379018  12.8750  13.860400  15.0500   \n",
              "P/PP             2.0   24.000000    0.000000  24.0000  24.000000  24.0000   \n",
              "W./C.           14.0   22.516071   10.770997   7.5500  10.500000  23.4500   \n",
              "F.C.C.           9.0   20.416667    6.125000  10.5000  21.000000  21.0000   \n",
              "A               42.0   10.189681    4.757010   7.2500   7.862500   8.0500   \n",
              "Other_under20   83.0    9.776255    4.121077   3.1708   7.281250   7.9250   \n",
              "LINE             4.0    0.000000    0.000000   0.0000   0.000000   0.0000   \n",
              "\n",
              "                      75%       max  \n",
              "Ticket_Group                         \n",
              "PC             170.541675  512.3292  \n",
              "S.O.C.          73.500000   73.5000  \n",
              "WE/P            71.000000   71.0000  \n",
              "W.E.P.          61.175000   61.1750  \n",
              "F.C.            52.000000   52.0000  \n",
              "CA              46.900000   69.5500  \n",
              "Regular         27.900000  263.0000  \n",
              "SC/AH           26.000000   26.0000  \n",
              "SC/PARIS        37.004200   41.5792  \n",
              "P/PP            24.000000   24.0000  \n",
              "W./C.           34.375000   34.3750  \n",
              "F.C.C.          26.250000   26.2500  \n",
              "A                8.050000   24.1500  \n",
              "Other_under20   10.500000   22.5250  \n",
              "LINE             0.000000    0.0000  "
            ],
            "text/html": [
              "\n",
              "  <div id=\"df-adcb43d1-94cd-4066-a1fa-8499939245e6\" class=\"colab-df-container\">\n",
              "    <div>\n",
              "<style scoped>\n",
              "    .dataframe tbody tr th:only-of-type {\n",
              "        vertical-align: middle;\n",
              "    }\n",
              "\n",
              "    .dataframe tbody tr th {\n",
              "        vertical-align: top;\n",
              "    }\n",
              "\n",
              "    .dataframe thead th {\n",
              "        text-align: right;\n",
              "    }\n",
              "</style>\n",
              "<table border=\"1\" class=\"dataframe\">\n",
              "  <thead>\n",
              "    <tr style=\"text-align: right;\">\n",
              "      <th></th>\n",
              "      <th>count</th>\n",
              "      <th>mean</th>\n",
              "      <th>std</th>\n",
              "      <th>min</th>\n",
              "      <th>25%</th>\n",
              "      <th>50%</th>\n",
              "      <th>75%</th>\n",
              "      <th>max</th>\n",
              "    </tr>\n",
              "    <tr>\n",
              "      <th>Ticket_Group</th>\n",
              "      <th></th>\n",
              "      <th></th>\n",
              "      <th></th>\n",
              "      <th></th>\n",
              "      <th></th>\n",
              "      <th></th>\n",
              "      <th></th>\n",
              "      <th></th>\n",
              "    </tr>\n",
              "  </thead>\n",
              "  <tbody>\n",
              "    <tr>\n",
              "      <th>PC</th>\n",
              "      <td>92.0</td>\n",
              "      <td>126.336726</td>\n",
              "      <td>113.567462</td>\n",
              "      <td>25.9250</td>\n",
              "      <td>47.028150</td>\n",
              "      <td>80.6854</td>\n",
              "      <td>170.541675</td>\n",
              "      <td>512.3292</td>\n",
              "    </tr>\n",
              "    <tr>\n",
              "      <th>S.O.C.</th>\n",
              "      <td>7.0</td>\n",
              "      <td>73.500000</td>\n",
              "      <td>0.000000</td>\n",
              "      <td>73.5000</td>\n",
              "      <td>73.500000</td>\n",
              "      <td>73.5000</td>\n",
              "      <td>73.500000</td>\n",
              "      <td>73.5000</td>\n",
              "    </tr>\n",
              "    <tr>\n",
              "      <th>WE/P</th>\n",
              "      <td>2.0</td>\n",
              "      <td>71.000000</td>\n",
              "      <td>0.000000</td>\n",
              "      <td>71.0000</td>\n",
              "      <td>71.000000</td>\n",
              "      <td>71.0000</td>\n",
              "      <td>71.000000</td>\n",
              "      <td>71.0000</td>\n",
              "    </tr>\n",
              "    <tr>\n",
              "      <th>W.E.P.</th>\n",
              "      <td>2.0</td>\n",
              "      <td>61.175000</td>\n",
              "      <td>0.000000</td>\n",
              "      <td>61.1750</td>\n",
              "      <td>61.175000</td>\n",
              "      <td>61.1750</td>\n",
              "      <td>61.175000</td>\n",
              "      <td>61.1750</td>\n",
              "    </tr>\n",
              "    <tr>\n",
              "      <th>F.C.</th>\n",
              "      <td>3.0</td>\n",
              "      <td>43.247233</td>\n",
              "      <td>15.160237</td>\n",
              "      <td>25.7417</td>\n",
              "      <td>38.870850</td>\n",
              "      <td>52.0000</td>\n",
              "      <td>52.000000</td>\n",
              "      <td>52.0000</td>\n",
              "    </tr>\n",
              "    <tr>\n",
              "      <th>CA</th>\n",
              "      <td>69.0</td>\n",
              "      <td>29.983877</td>\n",
              "      <td>20.975517</td>\n",
              "      <td>7.5500</td>\n",
              "      <td>10.500000</td>\n",
              "      <td>21.0000</td>\n",
              "      <td>46.900000</td>\n",
              "      <td>69.5500</td>\n",
              "    </tr>\n",
              "    <tr>\n",
              "      <th>Regular</th>\n",
              "      <td>956.0</td>\n",
              "      <td>27.810364</td>\n",
              "      <td>37.887928</td>\n",
              "      <td>0.0000</td>\n",
              "      <td>7.885425</td>\n",
              "      <td>13.0000</td>\n",
              "      <td>27.900000</td>\n",
              "      <td>263.0000</td>\n",
              "    </tr>\n",
              "    <tr>\n",
              "      <th>SC/AH</th>\n",
              "      <td>4.0</td>\n",
              "      <td>26.000000</td>\n",
              "      <td>0.000000</td>\n",
              "      <td>26.0000</td>\n",
              "      <td>26.000000</td>\n",
              "      <td>26.0000</td>\n",
              "      <td>26.000000</td>\n",
              "      <td>26.0000</td>\n",
              "    </tr>\n",
              "    <tr>\n",
              "      <th>SC/PARIS</th>\n",
              "      <td>19.0</td>\n",
              "      <td>24.892105</td>\n",
              "      <td>12.379018</td>\n",
              "      <td>12.8750</td>\n",
              "      <td>13.860400</td>\n",
              "      <td>15.0500</td>\n",
              "      <td>37.004200</td>\n",
              "      <td>41.5792</td>\n",
              "    </tr>\n",
              "    <tr>\n",
              "      <th>P/PP</th>\n",
              "      <td>2.0</td>\n",
              "      <td>24.000000</td>\n",
              "      <td>0.000000</td>\n",
              "      <td>24.0000</td>\n",
              "      <td>24.000000</td>\n",
              "      <td>24.0000</td>\n",
              "      <td>24.000000</td>\n",
              "      <td>24.0000</td>\n",
              "    </tr>\n",
              "    <tr>\n",
              "      <th>W./C.</th>\n",
              "      <td>14.0</td>\n",
              "      <td>22.516071</td>\n",
              "      <td>10.770997</td>\n",
              "      <td>7.5500</td>\n",
              "      <td>10.500000</td>\n",
              "      <td>23.4500</td>\n",
              "      <td>34.375000</td>\n",
              "      <td>34.3750</td>\n",
              "    </tr>\n",
              "    <tr>\n",
              "      <th>F.C.C.</th>\n",
              "      <td>9.0</td>\n",
              "      <td>20.416667</td>\n",
              "      <td>6.125000</td>\n",
              "      <td>10.5000</td>\n",
              "      <td>21.000000</td>\n",
              "      <td>21.0000</td>\n",
              "      <td>26.250000</td>\n",
              "      <td>26.2500</td>\n",
              "    </tr>\n",
              "    <tr>\n",
              "      <th>A</th>\n",
              "      <td>42.0</td>\n",
              "      <td>10.189681</td>\n",
              "      <td>4.757010</td>\n",
              "      <td>7.2500</td>\n",
              "      <td>7.862500</td>\n",
              "      <td>8.0500</td>\n",
              "      <td>8.050000</td>\n",
              "      <td>24.1500</td>\n",
              "    </tr>\n",
              "    <tr>\n",
              "      <th>Other_under20</th>\n",
              "      <td>83.0</td>\n",
              "      <td>9.776255</td>\n",
              "      <td>4.121077</td>\n",
              "      <td>3.1708</td>\n",
              "      <td>7.281250</td>\n",
              "      <td>7.9250</td>\n",
              "      <td>10.500000</td>\n",
              "      <td>22.5250</td>\n",
              "    </tr>\n",
              "    <tr>\n",
              "      <th>LINE</th>\n",
              "      <td>4.0</td>\n",
              "      <td>0.000000</td>\n",
              "      <td>0.000000</td>\n",
              "      <td>0.0000</td>\n",
              "      <td>0.000000</td>\n",
              "      <td>0.0000</td>\n",
              "      <td>0.000000</td>\n",
              "      <td>0.0000</td>\n",
              "    </tr>\n",
              "  </tbody>\n",
              "</table>\n",
              "</div>\n",
              "    <div class=\"colab-df-buttons\">\n",
              "\n",
              "  <div class=\"colab-df-container\">\n",
              "    <button class=\"colab-df-convert\" onclick=\"convertToInteractive('df-adcb43d1-94cd-4066-a1fa-8499939245e6')\"\n",
              "            title=\"Convert this dataframe to an interactive table.\"\n",
              "            style=\"display:none;\">\n",
              "\n",
              "  <svg xmlns=\"http://www.w3.org/2000/svg\" height=\"24px\" viewBox=\"0 -960 960 960\">\n",
              "    <path d=\"M120-120v-720h720v720H120Zm60-500h600v-160H180v160Zm220 220h160v-160H400v160Zm0 220h160v-160H400v160ZM180-400h160v-160H180v160Zm440 0h160v-160H620v160ZM180-180h160v-160H180v160Zm440 0h160v-160H620v160Z\"/>\n",
              "  </svg>\n",
              "    </button>\n",
              "\n",
              "  <style>\n",
              "    .colab-df-container {\n",
              "      display:flex;\n",
              "      gap: 12px;\n",
              "    }\n",
              "\n",
              "    .colab-df-convert {\n",
              "      background-color: #E8F0FE;\n",
              "      border: none;\n",
              "      border-radius: 50%;\n",
              "      cursor: pointer;\n",
              "      display: none;\n",
              "      fill: #1967D2;\n",
              "      height: 32px;\n",
              "      padding: 0 0 0 0;\n",
              "      width: 32px;\n",
              "    }\n",
              "\n",
              "    .colab-df-convert:hover {\n",
              "      background-color: #E2EBFA;\n",
              "      box-shadow: 0px 1px 2px rgba(60, 64, 67, 0.3), 0px 1px 3px 1px rgba(60, 64, 67, 0.15);\n",
              "      fill: #174EA6;\n",
              "    }\n",
              "\n",
              "    .colab-df-buttons div {\n",
              "      margin-bottom: 4px;\n",
              "    }\n",
              "\n",
              "    [theme=dark] .colab-df-convert {\n",
              "      background-color: #3B4455;\n",
              "      fill: #D2E3FC;\n",
              "    }\n",
              "\n",
              "    [theme=dark] .colab-df-convert:hover {\n",
              "      background-color: #434B5C;\n",
              "      box-shadow: 0px 1px 3px 1px rgba(0, 0, 0, 0.15);\n",
              "      filter: drop-shadow(0px 1px 2px rgba(0, 0, 0, 0.3));\n",
              "      fill: #FFFFFF;\n",
              "    }\n",
              "  </style>\n",
              "\n",
              "    <script>\n",
              "      const buttonEl =\n",
              "        document.querySelector('#df-adcb43d1-94cd-4066-a1fa-8499939245e6 button.colab-df-convert');\n",
              "      buttonEl.style.display =\n",
              "        google.colab.kernel.accessAllowed ? 'block' : 'none';\n",
              "\n",
              "      async function convertToInteractive(key) {\n",
              "        const element = document.querySelector('#df-adcb43d1-94cd-4066-a1fa-8499939245e6');\n",
              "        const dataTable =\n",
              "          await google.colab.kernel.invokeFunction('convertToInteractive',\n",
              "                                                    [key], {});\n",
              "        if (!dataTable) return;\n",
              "\n",
              "        const docLinkHtml = 'Like what you see? Visit the ' +\n",
              "          '<a target=\"_blank\" href=https://colab.research.google.com/notebooks/data_table.ipynb>data table notebook</a>'\n",
              "          + ' to learn more about interactive tables.';\n",
              "        element.innerHTML = '';\n",
              "        dataTable['output_type'] = 'display_data';\n",
              "        await google.colab.output.renderOutput(dataTable, element);\n",
              "        const docLink = document.createElement('div');\n",
              "        docLink.innerHTML = docLinkHtml;\n",
              "        element.appendChild(docLink);\n",
              "      }\n",
              "    </script>\n",
              "  </div>\n",
              "\n",
              "\n",
              "    <div id=\"df-846045b7-30bf-4e40-8145-9f93ea6e6528\">\n",
              "      <button class=\"colab-df-quickchart\" onclick=\"quickchart('df-846045b7-30bf-4e40-8145-9f93ea6e6528')\"\n",
              "                title=\"Suggest charts\"\n",
              "                style=\"display:none;\">\n",
              "\n",
              "<svg xmlns=\"http://www.w3.org/2000/svg\" height=\"24px\"viewBox=\"0 0 24 24\"\n",
              "     width=\"24px\">\n",
              "    <g>\n",
              "        <path d=\"M19 3H5c-1.1 0-2 .9-2 2v14c0 1.1.9 2 2 2h14c1.1 0 2-.9 2-2V5c0-1.1-.9-2-2-2zM9 17H7v-7h2v7zm4 0h-2V7h2v10zm4 0h-2v-4h2v4z\"/>\n",
              "    </g>\n",
              "</svg>\n",
              "      </button>\n",
              "\n",
              "<style>\n",
              "  .colab-df-quickchart {\n",
              "      --bg-color: #E8F0FE;\n",
              "      --fill-color: #1967D2;\n",
              "      --hover-bg-color: #E2EBFA;\n",
              "      --hover-fill-color: #174EA6;\n",
              "      --disabled-fill-color: #AAA;\n",
              "      --disabled-bg-color: #DDD;\n",
              "  }\n",
              "\n",
              "  [theme=dark] .colab-df-quickchart {\n",
              "      --bg-color: #3B4455;\n",
              "      --fill-color: #D2E3FC;\n",
              "      --hover-bg-color: #434B5C;\n",
              "      --hover-fill-color: #FFFFFF;\n",
              "      --disabled-bg-color: #3B4455;\n",
              "      --disabled-fill-color: #666;\n",
              "  }\n",
              "\n",
              "  .colab-df-quickchart {\n",
              "    background-color: var(--bg-color);\n",
              "    border: none;\n",
              "    border-radius: 50%;\n",
              "    cursor: pointer;\n",
              "    display: none;\n",
              "    fill: var(--fill-color);\n",
              "    height: 32px;\n",
              "    padding: 0;\n",
              "    width: 32px;\n",
              "  }\n",
              "\n",
              "  .colab-df-quickchart:hover {\n",
              "    background-color: var(--hover-bg-color);\n",
              "    box-shadow: 0 1px 2px rgba(60, 64, 67, 0.3), 0 1px 3px 1px rgba(60, 64, 67, 0.15);\n",
              "    fill: var(--button-hover-fill-color);\n",
              "  }\n",
              "\n",
              "  .colab-df-quickchart-complete:disabled,\n",
              "  .colab-df-quickchart-complete:disabled:hover {\n",
              "    background-color: var(--disabled-bg-color);\n",
              "    fill: var(--disabled-fill-color);\n",
              "    box-shadow: none;\n",
              "  }\n",
              "\n",
              "  .colab-df-spinner {\n",
              "    border: 2px solid var(--fill-color);\n",
              "    border-color: transparent;\n",
              "    border-bottom-color: var(--fill-color);\n",
              "    animation:\n",
              "      spin 1s steps(1) infinite;\n",
              "  }\n",
              "\n",
              "  @keyframes spin {\n",
              "    0% {\n",
              "      border-color: transparent;\n",
              "      border-bottom-color: var(--fill-color);\n",
              "      border-left-color: var(--fill-color);\n",
              "    }\n",
              "    20% {\n",
              "      border-color: transparent;\n",
              "      border-left-color: var(--fill-color);\n",
              "      border-top-color: var(--fill-color);\n",
              "    }\n",
              "    30% {\n",
              "      border-color: transparent;\n",
              "      border-left-color: var(--fill-color);\n",
              "      border-top-color: var(--fill-color);\n",
              "      border-right-color: var(--fill-color);\n",
              "    }\n",
              "    40% {\n",
              "      border-color: transparent;\n",
              "      border-right-color: var(--fill-color);\n",
              "      border-top-color: var(--fill-color);\n",
              "    }\n",
              "    60% {\n",
              "      border-color: transparent;\n",
              "      border-right-color: var(--fill-color);\n",
              "    }\n",
              "    80% {\n",
              "      border-color: transparent;\n",
              "      border-right-color: var(--fill-color);\n",
              "      border-bottom-color: var(--fill-color);\n",
              "    }\n",
              "    90% {\n",
              "      border-color: transparent;\n",
              "      border-bottom-color: var(--fill-color);\n",
              "    }\n",
              "  }\n",
              "</style>\n",
              "\n",
              "      <script>\n",
              "        async function quickchart(key) {\n",
              "          const quickchartButtonEl =\n",
              "            document.querySelector('#' + key + ' button');\n",
              "          quickchartButtonEl.disabled = true;  // To prevent multiple clicks.\n",
              "          quickchartButtonEl.classList.add('colab-df-spinner');\n",
              "          try {\n",
              "            const charts = await google.colab.kernel.invokeFunction(\n",
              "                'suggestCharts', [key], {});\n",
              "          } catch (error) {\n",
              "            console.error('Error during call to suggestCharts:', error);\n",
              "          }\n",
              "          quickchartButtonEl.classList.remove('colab-df-spinner');\n",
              "          quickchartButtonEl.classList.add('colab-df-quickchart-complete');\n",
              "        }\n",
              "        (() => {\n",
              "          let quickchartButtonEl =\n",
              "            document.querySelector('#df-846045b7-30bf-4e40-8145-9f93ea6e6528 button');\n",
              "          quickchartButtonEl.style.display =\n",
              "            google.colab.kernel.accessAllowed ? 'block' : 'none';\n",
              "        })();\n",
              "      </script>\n",
              "    </div>\n",
              "\n",
              "    </div>\n",
              "  </div>\n"
            ],
            "application/vnd.google.colaboratory.intrinsic+json": {
              "type": "dataframe",
              "summary": "{\n  \"name\": \"df_merged\",\n  \"rows\": 15,\n  \"fields\": [\n    {\n      \"column\": \"Ticket_Group\",\n      \"properties\": {\n        \"dtype\": \"string\",\n        \"num_unique_values\": 15,\n        \"samples\": [\n          \"P/PP\",\n          \"F.C.C.\",\n          \"PC\"\n        ],\n        \"semantic_type\": \"\",\n        \"description\": \"\"\n      }\n    },\n    {\n      \"column\": \"count\",\n      \"properties\": {\n        \"dtype\": \"number\",\n        \"std\": 242.38346242502368,\n        \"min\": 2.0,\n        \"max\": 956.0,\n        \"num_unique_values\": 12,\n        \"samples\": [\n          42.0,\n          9.0,\n          92.0\n        ],\n        \"semantic_type\": \"\",\n        \"description\": \"\"\n      }\n    },\n    {\n      \"column\": \"mean\",\n      \"properties\": {\n        \"dtype\": \"number\",\n        \"std\": 32.68902922672848,\n        \"min\": 0.0,\n        \"max\": 126.33672608695649,\n        \"num_unique_values\": 15,\n        \"samples\": [\n          24.0,\n          20.416666666666668,\n          126.33672608695649\n        ],\n        \"semantic_type\": \"\",\n        \"description\": \"\"\n      }\n    },\n    {\n      \"column\": \"std\",\n      \"properties\": {\n        \"dtype\": \"number\",\n        \"std\": 29.21825104688212,\n        \"min\": 0.0,\n        \"max\": 113.56746157778915,\n        \"num_unique_values\": 10,\n        \"samples\": [\n          4.75700957895425,\n          0.0,\n          12.379017799507613\n        ],\n        \"semantic_type\": \"\",\n        \"description\": \"\"\n      }\n    },\n    {\n      \"column\": \"min\",\n      \"properties\": {\n        \"dtype\": \"number\",\n        \"std\": 25.020940809811595,\n        \"min\": 0.0,\n        \"max\": 73.5,\n        \"num_unique_values\": 13,\n        \"samples\": [\n          7.25,\n          24.0,\n          25.925\n        ],\n        \"semantic_type\": \"\",\n        \"description\": \"\"\n      }\n    },\n    {\n      \"column\": \"25%\",\n      \"properties\": {\n        \"dtype\": \"number\",\n        \"std\": 24.50200005504325,\n        \"min\": 0.0,\n        \"max\": 73.5,\n        \"num_unique_values\": 14,\n        \"samples\": [\n          24.0,\n          7.8625,\n          47.02815\n        ],\n        \"semantic_type\": \"\",\n        \"description\": \"\"\n      }\n    },\n    {\n      \"column\": \"50%\",\n      \"properties\": {\n        \"dtype\": \"number\",\n        \"std\": 26.838279108325498,\n        \"min\": 0.0,\n        \"max\": 80.6854,\n        \"num_unique_values\": 14,\n        \"samples\": [\n          24.0,\n          8.05,\n          80.6854\n        ],\n        \"semantic_type\": \"\",\n        \"description\": \"\"\n      }\n    },\n    {\n      \"column\": \"75%\",\n      \"properties\": {\n        \"dtype\": \"number\",\n        \"std\": 41.200126015449264,\n        \"min\": 0.0,\n        \"max\": 170.541675,\n        \"num_unique_values\": 15,\n        \"samples\": [\n          24.0,\n          26.25,\n          170.541675\n        ],\n        \"semantic_type\": \"\",\n        \"description\": \"\"\n      }\n    },\n    {\n      \"column\": \"max\",\n      \"properties\": {\n        \"dtype\": \"number\",\n        \"std\": 132.6660452247106,\n        \"min\": 0.0,\n        \"max\": 512.3292,\n        \"num_unique_values\": 15,\n        \"samples\": [\n          24.0,\n          26.25,\n          512.3292\n        ],\n        \"semantic_type\": \"\",\n        \"description\": \"\"\n      }\n    }\n  ]\n}"
            }
          },
          "metadata": {},
          "execution_count": 26
        }
      ]
    },
    {
      "cell_type": "code",
      "source": [
        "# Merge ticket groups \"S.O.C.\", \"W.E.P.\" and \"WE/P\"\n",
        "df_merged['Ticket_Group'] = df_merged['Ticket_Group'].replace(['S.O.C.', 'W.E.P.', 'WE/P'], 'Other_med-high')\n",
        "\n",
        "# Merge ticket groups \"SC/AH\", \"SC/PARIS\", \"P/PP\", \"W./C.\", \"F.C.C.\"\n",
        "df_merged['Ticket_Group'] = df_merged['Ticket_Group'].replace(['SC/AH', 'SC/PARIS', 'P/PP', 'W./C.', 'F.C.C.'], 'Other_med')"
      ],
      "metadata": {
        "id": "0X1u1KpOkFJD"
      },
      "execution_count": null,
      "outputs": []
    },
    {
      "cell_type": "code",
      "source": [
        "# Plot fare vs ticket type\n",
        "plt.figure(figsize=(12, 6))\n",
        "sns.boxplot(x='Ticket_Group', y='Fare', data=df_merged)\n",
        "plt.xticks(rotation=45, ha='right')  # Rotate x-axis labels by 45 degrees\n",
        "plt.title('Fare Distribution by Ticket Group') # Adding a title for better clarity\n",
        "plt.xlabel('Ticket Group')\n",
        "plt.ylabel('Fare')\n",
        "plt.show()"
      ],
      "metadata": {
        "colab": {
          "base_uri": "https://localhost:8080/"
        },
        "id": "DrRgtEZ9aGg2",
        "outputId": "664d94e8-ba04-47dc-f174-880d8a1114eb"
      },
      "execution_count": null,
      "outputs": [
        {
          "output_type": "display_data",
          "data": {
            "text/plain": [
              "<Figure size 1200x600 with 1 Axes>"
            ],
            "image/png": "[encoded data removed]"
          },
          "metadata": {}
        }
      ]
    },
    {
      "cell_type": "markdown",
      "source": [
        "#### Creating a variable for Title"
      ],
      "metadata": {
        "id": "8AyLivi5nB1e"
      }
    },
    {
      "cell_type": "code",
      "source": [
        "# Look for \"Mr.\", \"Master.\", \"Mrs.\", \"Miss.\" in the Name feature and extract to a new feature called \"Title\"\n",
        "df_merged['Title'] = df_merged['Name'].str.extract(r' ([A-Za-z]+)\\.', expand=False)\n",
        "df_merged['Title'] = df_merged['Title'].str.replace(' ', '', regex=False)\n",
        "\n",
        "# Count by Title\n",
        "df_merged['Title'].value_counts()"
      ],
      "metadata": {
        "colab": {
          "base_uri": "https://localhost:8080/"
        },
        "id": "say9DYNvnHDW",
        "outputId": "2ccb8940-0c8c-47a7-813f-a6b3223ba0fe"
      },
      "execution_count": null,
      "outputs": [
        {
          "output_type": "execute_result",
          "data": {
            "text/plain": [
              "Title\n",
              "Mr          757\n",
              "Miss        260\n",
              "Mrs         197\n",
              "Master       61\n",
              "Dr            8\n",
              "Rev           8\n",
              "Col           4\n",
              "Major         2\n",
              "Ms            2\n",
              "Mlle          2\n",
              "Countess      1\n",
              "Jonkheer      1\n",
              "Lady          1\n",
              "Mme           1\n",
              "Sir           1\n",
              "Don           1\n",
              "Capt          1\n",
              "Dona          1\n",
              "Name: count, dtype: int64"
            ],
            "text/html": [
              "<div>\n",
              "<style scoped>\n",
              "    .dataframe tbody tr th:only-of-type {\n",
              "        vertical-align: middle;\n",
              "    }\n",
              "\n",
              "    .dataframe tbody tr th {\n",
              "        vertical-align: top;\n",
              "    }\n",
              "\n",
              "    .dataframe thead th {\n",
              "        text-align: right;\n",
              "    }\n",
              "</style>\n",
              "<table border=\"1\" class=\"dataframe\">\n",
              "  <thead>\n",
              "    <tr style=\"text-align: right;\">\n",
              "      <th></th>\n",
              "      <th>count</th>\n",
              "    </tr>\n",
              "    <tr>\n",
              "      <th>Title</th>\n",
              "      <th></th>\n",
              "    </tr>\n",
              "  </thead>\n",
              "  <tbody>\n",
              "    <tr>\n",
              "      <th>Mr</th>\n",
              "      <td>757</td>\n",
              "    </tr>\n",
              "    <tr>\n",
              "      <th>Miss</th>\n",
              "      <td>260</td>\n",
              "    </tr>\n",
              "    <tr>\n",
              "      <th>Mrs</th>\n",
              "      <td>197</td>\n",
              "    </tr>\n",
              "    <tr>\n",
              "      <th>Master</th>\n",
              "      <td>61</td>\n",
              "    </tr>\n",
              "    <tr>\n",
              "      <th>Dr</th>\n",
              "      <td>8</td>\n",
              "    </tr>\n",
              "    <tr>\n",
              "      <th>Rev</th>\n",
              "      <td>8</td>\n",
              "    </tr>\n",
              "    <tr>\n",
              "      <th>Col</th>\n",
              "      <td>4</td>\n",
              "    </tr>\n",
              "    <tr>\n",
              "      <th>Major</th>\n",
              "      <td>2</td>\n",
              "    </tr>\n",
              "    <tr>\n",
              "      <th>Ms</th>\n",
              "      <td>2</td>\n",
              "    </tr>\n",
              "    <tr>\n",
              "      <th>Mlle</th>\n",
              "      <td>2</td>\n",
              "    </tr>\n",
              "    <tr>\n",
              "      <th>Countess</th>\n",
              "      <td>1</td>\n",
              "    </tr>\n",
              "    <tr>\n",
              "      <th>Jonkheer</th>\n",
              "      <td>1</td>\n",
              "    </tr>\n",
              "    <tr>\n",
              "      <th>Lady</th>\n",
              "      <td>1</td>\n",
              "    </tr>\n",
              "    <tr>\n",
              "      <th>Mme</th>\n",
              "      <td>1</td>\n",
              "    </tr>\n",
              "    <tr>\n",
              "      <th>Sir</th>\n",
              "      <td>1</td>\n",
              "    </tr>\n",
              "    <tr>\n",
              "      <th>Don</th>\n",
              "      <td>1</td>\n",
              "    </tr>\n",
              "    <tr>\n",
              "      <th>Capt</th>\n",
              "      <td>1</td>\n",
              "    </tr>\n",
              "    <tr>\n",
              "      <th>Dona</th>\n",
              "      <td>1</td>\n",
              "    </tr>\n",
              "  </tbody>\n",
              "</table>\n",
              "</div><br><label><b>dtype:</b> int64</label>"
            ]
          },
          "metadata": {},
          "execution_count": 29
        }
      ]
    },
    {
      "cell_type": "code",
      "source": [
        "# Standardize titles\n",
        "df_merged['Title'] = df_merged['Title'].replace({\n",
        "    'Mlle': 'Miss',\n",
        "    'Ms': 'Miss',\n",
        "    'Mme': 'Mrs',\n",
        "    'Dr': 'Officer',\n",
        "    'Rev': 'Officer',\n",
        "    'Col': 'Officer',\n",
        "    'Major': 'Officer',\n",
        "    'Capt': 'Officer',\n",
        "    'Sir': 'Royalty',\n",
        "    'Lady': 'Royalty',\n",
        "    'Countess': 'Royalty',\n",
        "    'Don': 'Royalty',\n",
        "    'Dona': 'Royalty',\n",
        "    'Jonkheer': 'Royalty'\n",
        "})"
      ],
      "metadata": {
        "id": "z-bRdSiGpWKl"
      },
      "execution_count": null,
      "outputs": []
    },
    {
      "cell_type": "code",
      "source": [
        "# Count by Title\n",
        "df_merged['Title'].value_counts()"
      ],
      "metadata": {
        "colab": {
          "base_uri": "https://localhost:8080/"
        },
        "id": "wJmGJeEDpix-",
        "outputId": "b21a862a-f075-4a63-c7ba-e017cae153c6"
      },
      "execution_count": null,
      "outputs": [
        {
          "output_type": "execute_result",
          "data": {
            "text/plain": [
              "Title\n",
              "Mr         757\n",
              "Miss       264\n",
              "Mrs        198\n",
              "Master      61\n",
              "Officer     23\n",
              "Royalty      6\n",
              "Name: count, dtype: int64"
            ],
            "text/html": [
              "<div>\n",
              "<style scoped>\n",
              "    .dataframe tbody tr th:only-of-type {\n",
              "        vertical-align: middle;\n",
              "    }\n",
              "\n",
              "    .dataframe tbody tr th {\n",
              "        vertical-align: top;\n",
              "    }\n",
              "\n",
              "    .dataframe thead th {\n",
              "        text-align: right;\n",
              "    }\n",
              "</style>\n",
              "<table border=\"1\" class=\"dataframe\">\n",
              "  <thead>\n",
              "    <tr style=\"text-align: right;\">\n",
              "      <th></th>\n",
              "      <th>count</th>\n",
              "    </tr>\n",
              "    <tr>\n",
              "      <th>Title</th>\n",
              "      <th></th>\n",
              "    </tr>\n",
              "  </thead>\n",
              "  <tbody>\n",
              "    <tr>\n",
              "      <th>Mr</th>\n",
              "      <td>757</td>\n",
              "    </tr>\n",
              "    <tr>\n",
              "      <th>Miss</th>\n",
              "      <td>264</td>\n",
              "    </tr>\n",
              "    <tr>\n",
              "      <th>Mrs</th>\n",
              "      <td>198</td>\n",
              "    </tr>\n",
              "    <tr>\n",
              "      <th>Master</th>\n",
              "      <td>61</td>\n",
              "    </tr>\n",
              "    <tr>\n",
              "      <th>Officer</th>\n",
              "      <td>23</td>\n",
              "    </tr>\n",
              "    <tr>\n",
              "      <th>Royalty</th>\n",
              "      <td>6</td>\n",
              "    </tr>\n",
              "  </tbody>\n",
              "</table>\n",
              "</div><br><label><b>dtype:</b> int64</label>"
            ]
          },
          "metadata": {},
          "execution_count": 31
        }
      ]
    },
    {
      "cell_type": "markdown",
      "source": [
        "#### Splitting SibSp into two variables      "
      ],
      "metadata": {
        "id": "OXIV5LfdrNrS"
      }
    },
    {
      "cell_type": "code",
      "source": [
        "# Create variables Siblings, Spouse\n",
        "df_merged['Siblings'] = 0\n",
        "df_merged['Spouse'] = 0\n",
        "\n",
        "# If Title is Master, Miss or Age < 18 then Siblings = SibSp (this is a child or unmarried person)\n",
        "df_merged.loc[((df_merged['Title'].isin(['Master', 'Miss'])) | (df_merged['Age'] < 18)), 'Siblings'] = df_merged['SibSp']\n",
        "df_merged.loc[((df_merged['Title'].isin(['Master', 'Miss'])) | (df_merged['Age'] < 18)), 'Spouse'] = 0\n",
        "\n",
        "# If Title is Mr, Mrs, Royalty or Officer and Age >= 18, SibSp > 0, then Spouse = 1\n",
        "df_merged.loc[((df_merged['Title'].isin(['Mr', 'Mrs', 'Royalty', 'Officer'])) & (df_merged['Age'] >= 18) & (df_merged['SibSp'] > 0)), 'Spouse'] = 1\n",
        "df_merged.loc[((df_merged['Title'].isin(['Mr', 'Mrs', 'Royalty', 'Officer'])) & (df_merged['Age'] >= 18) & (df_merged['SibSp'] > 0)), 'Siblings'] = df_merged['SibSp'] - df_merged['Spouse']\n"
      ],
      "metadata": {
        "id": "zZsXWDIqrY0r"
      },
      "execution_count": null,
      "outputs": []
    },
    {
      "cell_type": "markdown",
      "source": [
        "#### Splitting Parch into two variables"
      ],
      "metadata": {
        "id": "OwAvoSku9PJ5"
      }
    },
    {
      "cell_type": "code",
      "source": [
        "# Create variables Siblings, Spouse\n",
        "df_merged['Parents'] = 0\n",
        "df_merged['Children'] = 0\n",
        "\n",
        "# If Title is Master, Miss or Age <= 20 then Parents = Parch (this is a child/young adult traveling with parents)\n",
        "df_merged.loc[((df_merged['Title'].isin(['Master', 'Miss'])) | (df_merged['Age'] <= 20)), 'Parents'] = df_merged['Parch']\n",
        "df_merged.loc[((df_merged['Title'].isin(['Master', 'Miss'])) | (df_merged['Age'] <= 20)), 'Children'] = 0\n",
        "\n",
        "# If Title is Mr, Mrs, Royalty or Officer and Age > 20, Parch > 0 then Children = Parch\n",
        "df_merged.loc[((df_merged['Title'].isin(['Mr', 'Mrs', 'Royalty', 'Officer'])) & (df_merged['Age'] > 20) & (df_merged['Parch'] > 0)), 'Children'] = df_merged['Parch']\n",
        "df_merged.loc[((df_merged['Title'].isin(['Mr', 'Mrs', 'Royalty', 'Officer'])) & (df_merged['Age'] > 20) & (df_merged['Parch'] > 0)), 'Parents'] = 0"
      ],
      "metadata": {
        "id": "aL3DjW3t9VNT"
      },
      "execution_count": null,
      "outputs": []
    },
    {
      "cell_type": "markdown",
      "source": [
        "#### Predicting missing Embarked data"
      ],
      "metadata": {
        "id": "xppaRLU24lyo"
      }
    },
    {
      "cell_type": "code",
      "source": [
        "# Filter to missing Embarked data\n",
        "missing_embarked = df_merged[df_merged['Embarked'].isnull()]\n",
        "\n",
        "# Print rows\n",
        "print(missing_embarked)"
      ],
      "metadata": {
        "colab": {
          "base_uri": "https://localhost:8080/"
        },
        "id": "I1R26qCz4pWF",
        "outputId": "03dfeece-e0f7-42af-d901-b6c2121a4152"
      },
      "execution_count": null,
      "outputs": [
        {
          "output_type": "stream",
          "name": "stdout",
          "text": [
            "     PassengerId  Survived  Pclass                                       Name  \\\n",
            "269           62       1.0       1                        Icard, Miss. Amelie   \n",
            "270          830       1.0       1  Stone, Mrs. George Nelson (Martha Evelyn)   \n",
            "\n",
            "        Sex   Age  SibSp  Parch  Ticket  Fare Cabin Embarked  TestYes  \\\n",
            "269  female  38.0      0      0  113572  80.0   B28      NaN        0   \n",
            "270  female  62.0      0      0  113572  80.0   B28      NaN        0   \n",
            "\n",
            "    Ticket_Number Ticket_Group Title  Siblings  Spouse  Parents  Children  \n",
            "269        113572      Regular  Miss         0       0        0         0  \n",
            "270        113572      Regular   Mrs         0       0        0         0  \n"
          ]
        }
      ]
    },
    {
      "cell_type": "markdown",
      "source": [
        "The two passengers had the same ticket# and travelled in the same cabin.\n",
        "\n",
        "Assumption: People travelling from the same embarkation point in the same class will have similar fares. Analyzing these two features will help us predict the embarkation point for the above two passengers."
      ],
      "metadata": {
        "id": "7505MCzb552D"
      }
    },
    {
      "cell_type": "code",
      "source": [
        "# What is the maximum value paid by each Pclass\n",
        "df_merged.groupby('Pclass')['Fare'].describe()"
      ],
      "metadata": {
        "colab": {
          "base_uri": "https://localhost:8080/"
        },
        "id": "quAErfph8LGe",
        "outputId": "76427429-cd91-4b67-e03a-559e976b507b"
      },
      "execution_count": null,
      "outputs": [
        {
          "output_type": "execute_result",
          "data": {
            "text/plain": [
              "        count       mean        std  min      25%      50%       75%       max\n",
              "Pclass                                                                        \n",
              "1       323.0  87.508992  80.447178  0.0  30.6958  60.0000  107.6625  512.3292\n",
              "2       277.0  21.179196  13.607122  0.0  13.0000  15.0458   26.0000   73.5000\n",
              "3       708.0  13.302889  11.494358  0.0   7.7500   8.0500   15.2458   69.5500"
            ],
            "text/html": [
              "\n",
              "  <div id=\"df-e8bb3cbd-ec49-4aaa-84d1-0488ec67549c\" class=\"colab-df-container\">\n",
              "    <div>\n",
              "<style scoped>\n",
              "    .dataframe tbody tr th:only-of-type {\n",
              "        vertical-align: middle;\n",
              "    }\n",
              "\n",
              "    .dataframe tbody tr th {\n",
              "        vertical-align: top;\n",
              "    }\n",
              "\n",
              "    .dataframe thead th {\n",
              "        text-align: right;\n",
              "    }\n",
              "</style>\n",
              "<table border=\"1\" class=\"dataframe\">\n",
              "  <thead>\n",
              "    <tr style=\"text-align: right;\">\n",
              "      <th></th>\n",
              "      <th>count</th>\n",
              "      <th>mean</th>\n",
              "      <th>std</th>\n",
              "      <th>min</th>\n",
              "      <th>25%</th>\n",
              "      <th>50%</th>\n",
              "      <th>75%</th>\n",
              "      <th>max</th>\n",
              "    </tr>\n",
              "    <tr>\n",
              "      <th>Pclass</th>\n",
              "      <th></th>\n",
              "      <th></th>\n",
              "      <th></th>\n",
              "      <th></th>\n",
              "      <th></th>\n",
              "      <th></th>\n",
              "      <th></th>\n",
              "      <th></th>\n",
              "    </tr>\n",
              "  </thead>\n",
              "  <tbody>\n",
              "    <tr>\n",
              "      <th>1</th>\n",
              "      <td>323.0</td>\n",
              "      <td>87.508992</td>\n",
              "      <td>80.447178</td>\n",
              "      <td>0.0</td>\n",
              "      <td>30.6958</td>\n",
              "      <td>60.0000</td>\n",
              "      <td>107.6625</td>\n",
              "      <td>512.3292</td>\n",
              "    </tr>\n",
              "    <tr>\n",
              "      <th>2</th>\n",
              "      <td>277.0</td>\n",
              "      <td>21.179196</td>\n",
              "      <td>13.607122</td>\n",
              "      <td>0.0</td>\n",
              "      <td>13.0000</td>\n",
              "      <td>15.0458</td>\n",
              "      <td>26.0000</td>\n",
              "      <td>73.5000</td>\n",
              "    </tr>\n",
              "    <tr>\n",
              "      <th>3</th>\n",
              "      <td>708.0</td>\n",
              "      <td>13.302889</td>\n",
              "      <td>11.494358</td>\n",
              "      <td>0.0</td>\n",
              "      <td>7.7500</td>\n",
              "      <td>8.0500</td>\n",
              "      <td>15.2458</td>\n",
              "      <td>69.5500</td>\n",
              "    </tr>\n",
              "  </tbody>\n",
              "</table>\n",
              "</div>\n",
              "    <div class=\"colab-df-buttons\">\n",
              "\n",
              "  <div class=\"colab-df-container\">\n",
              "    <button class=\"colab-df-convert\" onclick=\"convertToInteractive('df-e8bb3cbd-ec49-4aaa-84d1-0488ec67549c')\"\n",
              "            title=\"Convert this dataframe to an interactive table.\"\n",
              "            style=\"display:none;\">\n",
              "\n",
              "  <svg xmlns=\"http://www.w3.org/2000/svg\" height=\"24px\" viewBox=\"0 -960 960 960\">\n",
              "    <path d=\"M120-120v-720h720v720H120Zm60-500h600v-160H180v160Zm220 220h160v-160H400v160Zm0 220h160v-160H400v160ZM180-400h160v-160H180v160Zm440 0h160v-160H620v160ZM180-180h160v-160H180v160Zm440 0h160v-160H620v160Z\"/>\n",
              "  </svg>\n",
              "    </button>\n",
              "\n",
              "  <style>\n",
              "    .colab-df-container {\n",
              "      display:flex;\n",
              "      gap: 12px;\n",
              "    }\n",
              "\n",
              "    .colab-df-convert {\n",
              "      background-color: #E8F0FE;\n",
              "      border: none;\n",
              "      border-radius: 50%;\n",
              "      cursor: pointer;\n",
              "      display: none;\n",
              "      fill: #1967D2;\n",
              "      height: 32px;\n",
              "      padding: 0 0 0 0;\n",
              "      width: 32px;\n",
              "    }\n",
              "\n",
              "    .colab-df-convert:hover {\n",
              "      background-color: #E2EBFA;\n",
              "      box-shadow: 0px 1px 2px rgba(60, 64, 67, 0.3), 0px 1px 3px 1px rgba(60, 64, 67, 0.15);\n",
              "      fill: #174EA6;\n",
              "    }\n",
              "\n",
              "    .colab-df-buttons div {\n",
              "      margin-bottom: 4px;\n",
              "    }\n",
              "\n",
              "    [theme=dark] .colab-df-convert {\n",
              "      background-color: #3B4455;\n",
              "      fill: #D2E3FC;\n",
              "    }\n",
              "\n",
              "    [theme=dark] .colab-df-convert:hover {\n",
              "      background-color: #434B5C;\n",
              "      box-shadow: 0px 1px 3px 1px rgba(0, 0, 0, 0.15);\n",
              "      filter: drop-shadow(0px 1px 2px rgba(0, 0, 0, 0.3));\n",
              "      fill: #FFFFFF;\n",
              "    }\n",
              "  </style>\n",
              "\n",
              "    <script>\n",
              "      const buttonEl =\n",
              "        document.querySelector('#df-e8bb3cbd-ec49-4aaa-84d1-0488ec67549c button.colab-df-convert');\n",
              "      buttonEl.style.display =\n",
              "        google.colab.kernel.accessAllowed ? 'block' : 'none';\n",
              "\n",
              "      async function convertToInteractive(key) {\n",
              "        const element = document.querySelector('#df-e8bb3cbd-ec49-4aaa-84d1-0488ec67549c');\n",
              "        const dataTable =\n",
              "          await google.colab.kernel.invokeFunction('convertToInteractive',\n",
              "                                                    [key], {});\n",
              "        if (!dataTable) return;\n",
              "\n",
              "        const docLinkHtml = 'Like what you see? Visit the ' +\n",
              "          '<a target=\"_blank\" href=https://colab.research.google.com/notebooks/data_table.ipynb>data table notebook</a>'\n",
              "          + ' to learn more about interactive tables.';\n",
              "        element.innerHTML = '';\n",
              "        dataTable['output_type'] = 'display_data';\n",
              "        await google.colab.output.renderOutput(dataTable, element);\n",
              "        const docLink = document.createElement('div');\n",
              "        docLink.innerHTML = docLinkHtml;\n",
              "        element.appendChild(docLink);\n",
              "      }\n",
              "    </script>\n",
              "  </div>\n",
              "\n",
              "\n",
              "    <div id=\"df-cab8b411-d109-4148-b148-56cbae4156d6\">\n",
              "      <button class=\"colab-df-quickchart\" onclick=\"quickchart('df-cab8b411-d109-4148-b148-56cbae4156d6')\"\n",
              "                title=\"Suggest charts\"\n",
              "                style=\"display:none;\">\n",
              "\n",
              "<svg xmlns=\"http://www.w3.org/2000/svg\" height=\"24px\"viewBox=\"0 0 24 24\"\n",
              "     width=\"24px\">\n",
              "    <g>\n",
              "        <path d=\"M19 3H5c-1.1 0-2 .9-2 2v14c0 1.1.9 2 2 2h14c1.1 0 2-.9 2-2V5c0-1.1-.9-2-2-2zM9 17H7v-7h2v7zm4 0h-2V7h2v10zm4 0h-2v-4h2v4z\"/>\n",
              "    </g>\n",
              "</svg>\n",
              "      </button>\n",
              "\n",
              "<style>\n",
              "  .colab-df-quickchart {\n",
              "      --bg-color: #E8F0FE;\n",
              "      --fill-color: #1967D2;\n",
              "      --hover-bg-color: #E2EBFA;\n",
              "      --hover-fill-color: #174EA6;\n",
              "      --disabled-fill-color: #AAA;\n",
              "      --disabled-bg-color: #DDD;\n",
              "  }\n",
              "\n",
              "  [theme=dark] .colab-df-quickchart {\n",
              "      --bg-color: #3B4455;\n",
              "      --fill-color: #D2E3FC;\n",
              "      --hover-bg-color: #434B5C;\n",
              "      --hover-fill-color: #FFFFFF;\n",
              "      --disabled-bg-color: #3B4455;\n",
              "      --disabled-fill-color: #666;\n",
              "  }\n",
              "\n",
              "  .colab-df-quickchart {\n",
              "    background-color: var(--bg-color);\n",
              "    border: none;\n",
              "    border-radius: 50%;\n",
              "    cursor: pointer;\n",
              "    display: none;\n",
              "    fill: var(--fill-color);\n",
              "    height: 32px;\n",
              "    padding: 0;\n",
              "    width: 32px;\n",
              "  }\n",
              "\n",
              "  .colab-df-quickchart:hover {\n",
              "    background-color: var(--hover-bg-color);\n",
              "    box-shadow: 0 1px 2px rgba(60, 64, 67, 0.3), 0 1px 3px 1px rgba(60, 64, 67, 0.15);\n",
              "    fill: var(--button-hover-fill-color);\n",
              "  }\n",
              "\n",
              "  .colab-df-quickchart-complete:disabled,\n",
              "  .colab-df-quickchart-complete:disabled:hover {\n",
              "    background-color: var(--disabled-bg-color);\n",
              "    fill: var(--disabled-fill-color);\n",
              "    box-shadow: none;\n",
              "  }\n",
              "\n",
              "  .colab-df-spinner {\n",
              "    border: 2px solid var(--fill-color);\n",
              "    border-color: transparent;\n",
              "    border-bottom-color: var(--fill-color);\n",
              "    animation:\n",
              "      spin 1s steps(1) infinite;\n",
              "  }\n",
              "\n",
              "  @keyframes spin {\n",
              "    0% {\n",
              "      border-color: transparent;\n",
              "      border-bottom-color: var(--fill-color);\n",
              "      border-left-color: var(--fill-color);\n",
              "    }\n",
              "    20% {\n",
              "      border-color: transparent;\n",
              "      border-left-color: var(--fill-color);\n",
              "      border-top-color: var(--fill-color);\n",
              "    }\n",
              "    30% {\n",
              "      border-color: transparent;\n",
              "      border-left-color: var(--fill-color);\n",
              "      border-top-color: var(--fill-color);\n",
              "      border-right-color: var(--fill-color);\n",
              "    }\n",
              "    40% {\n",
              "      border-color: transparent;\n",
              "      border-right-color: var(--fill-color);\n",
              "      border-top-color: var(--fill-color);\n",
              "    }\n",
              "    60% {\n",
              "      border-color: transparent;\n",
              "      border-right-color: var(--fill-color);\n",
              "    }\n",
              "    80% {\n",
              "      border-color: transparent;\n",
              "      border-right-color: var(--fill-color);\n",
              "      border-bottom-color: var(--fill-color);\n",
              "    }\n",
              "    90% {\n",
              "      border-color: transparent;\n",
              "      border-bottom-color: var(--fill-color);\n",
              "    }\n",
              "  }\n",
              "</style>\n",
              "\n",
              "      <script>\n",
              "        async function quickchart(key) {\n",
              "          const quickchartButtonEl =\n",
              "            document.querySelector('#' + key + ' button');\n",
              "          quickchartButtonEl.disabled = true;  // To prevent multiple clicks.\n",
              "          quickchartButtonEl.classList.add('colab-df-spinner');\n",
              "          try {\n",
              "            const charts = await google.colab.kernel.invokeFunction(\n",
              "                'suggestCharts', [key], {});\n",
              "          } catch (error) {\n",
              "            console.error('Error during call to suggestCharts:', error);\n",
              "          }\n",
              "          quickchartButtonEl.classList.remove('colab-df-spinner');\n",
              "          quickchartButtonEl.classList.add('colab-df-quickchart-complete');\n",
              "        }\n",
              "        (() => {\n",
              "          let quickchartButtonEl =\n",
              "            document.querySelector('#df-cab8b411-d109-4148-b148-56cbae4156d6 button');\n",
              "          quickchartButtonEl.style.display =\n",
              "            google.colab.kernel.accessAllowed ? 'block' : 'none';\n",
              "        })();\n",
              "      </script>\n",
              "    </div>\n",
              "\n",
              "    </div>\n",
              "  </div>\n"
            ],
            "application/vnd.google.colaboratory.intrinsic+json": {
              "type": "dataframe",
              "summary": "{\n  \"name\": \"df_merged\",\n  \"rows\": 3,\n  \"fields\": [\n    {\n      \"column\": \"Pclass\",\n      \"properties\": {\n        \"dtype\": \"number\",\n        \"std\": 1,\n        \"min\": 1,\n        \"max\": 3,\n        \"num_unique_values\": 3,\n        \"samples\": [\n          1,\n          2,\n          3\n        ],\n        \"semantic_type\": \"\",\n        \"description\": \"\"\n      }\n    },\n    {\n      \"column\": \"count\",\n      \"properties\": {\n        \"dtype\": \"number\",\n        \"std\": 236.6791076542245,\n        \"min\": 277.0,\n        \"max\": 708.0,\n        \"num_unique_values\": 3,\n        \"samples\": [\n          323.0,\n          277.0,\n          708.0\n        ],\n        \"semantic_type\": \"\",\n        \"description\": \"\"\n      }\n    },\n    {\n      \"column\": \"mean\",\n      \"properties\": {\n        \"dtype\": \"number\",\n        \"std\": 40.759914283602875,\n        \"min\": 13.302888700564973,\n        \"max\": 87.50899164086688,\n        \"num_unique_values\": 3,\n        \"samples\": [\n          87.50899164086688,\n          21.179196389891697,\n          13.302888700564973\n        ],\n        \"semantic_type\": \"\",\n        \"description\": \"\"\n      }\n    },\n    {\n      \"column\": \"std\",\n      \"properties\": {\n        \"dtype\": \"number\",\n        \"std\": 39.21425812064459,\n        \"min\": 11.494358453448585,\n        \"max\": 80.44717824890338,\n        \"num_unique_values\": 3,\n        \"samples\": [\n          80.44717824890338,\n          13.60712205553629,\n          11.494358453448585\n        ],\n        \"semantic_type\": \"\",\n        \"description\": \"\"\n      }\n    },\n    {\n      \"column\": \"min\",\n      \"properties\": {\n        \"dtype\": \"number\",\n        \"std\": 0.0,\n        \"min\": 0.0,\n        \"max\": 0.0,\n        \"num_unique_values\": 1,\n        \"samples\": [\n          0.0\n        ],\n        \"semantic_type\": \"\",\n        \"description\": \"\"\n      }\n    },\n    {\n      \"column\": \"25%\",\n      \"properties\": {\n        \"dtype\": \"number\",\n        \"std\": 12.02229578242026,\n        \"min\": 7.75,\n        \"max\": 30.6958,\n        \"num_unique_values\": 3,\n        \"samples\": [\n          30.6958\n        ],\n        \"semantic_type\": \"\",\n        \"description\": \"\"\n      }\n    },\n    {\n      \"column\": \"50%\",\n      \"properties\": {\n        \"dtype\": \"number\",\n        \"std\": 28.191676712817205,\n        \"min\": 8.05,\n        \"max\": 60.0,\n        \"num_unique_values\": 3,\n        \"samples\": [\n          60.0\n        ],\n        \"semantic_type\": \"\",\n        \"description\": \"\"\n      }\n    },\n    {\n      \"column\": \"75%\",\n      \"properties\": {\n        \"dtype\": \"number\",\n        \"std\": 50.53919792725247,\n        \"min\": 15.2458,\n        \"max\": 107.6625,\n        \"num_unique_values\": 3,\n        \"samples\": [\n          107.6625\n        ],\n        \"semantic_type\": \"\",\n        \"description\": \"\"\n      }\n    },\n    {\n      \"column\": \"max\",\n      \"properties\": {\n        \"dtype\": \"number\",\n        \"std\": 254.50608677242542,\n        \"min\": 69.55,\n        \"max\": 512.3292,\n        \"num_unique_values\": 3,\n        \"samples\": [\n          512.3292\n        ],\n        \"semantic_type\": \"\",\n        \"description\": \"\"\n      }\n    }\n  ]\n}"
            }
          },
          "metadata": {},
          "execution_count": 35
        }
      ]
    },
    {
      "cell_type": "code",
      "source": [
        "# Filtered dataset to Pclass == 1\n",
        "df_merged_pclass1 = df_merged[df_merged['Pclass'] == 1]"
      ],
      "metadata": {
        "id": "zyPDUfZQ8msD"
      },
      "execution_count": null,
      "outputs": []
    },
    {
      "cell_type": "code",
      "source": [
        "# 1. Calculate deciles and get range labels\n",
        "df_merged_pclass1.loc[:, 'Fare_Decile'] = pd.qcut(\n",
        "    df_merged_pclass1['Fare'], 10, labels=False, duplicates='drop'\n",
        ")\n",
        "\n",
        "# Get the fare ranges for each decile\n",
        "fare_ranges = df_merged_pclass1.groupby('Fare_Decile')['Fare'].agg(['min', 'max'])\n",
        "labels = [f\"${int(row['min'])}-${int(row['max'])}\" for _, row in fare_ranges.iterrows()]\n",
        "\n",
        "# Map decile numbers to range labels\n",
        "df_merged_pclass1.loc[:, 'Fare_Category'] = df_merged_pclass1['Fare_Decile'].map(dict(enumerate(labels)))\n",
        "\n",
        "# 2. Create a pivot table with count as the aggregation function\n",
        "fare_heatmap_data = pd.pivot_table(\n",
        "    df_merged_pclass1,\n",
        "    values='PassengerId',\n",
        "    index='Embarked',\n",
        "    columns='Fare_Category',\n",
        "    aggfunc='count',\n",
        "    fill_value=0\n",
        ")\n",
        "\n",
        "# 3. Create the heatmap\n",
        "plt.figure(figsize=(12, 6))\n",
        "sns.heatmap(fare_heatmap_data, annot=True, cmap='viridis', fmt=\".0f\")\n",
        "plt.title('Heatmap of Passenger Count by Fare Decile and Embarked (Pclass 1)')\n",
        "plt.xlabel('Fare Decile (Price Range)')\n",
        "plt.ylabel('Embarked')\n",
        "plt.xticks(rotation=45, ha='right')\n",
        "plt.show()"
      ],
      "metadata": {
        "colab": {
          "base_uri": "https://localhost:8080/"
        },
        "id": "8jp10Xj84-Vv",
        "outputId": "bdba95f4-b760-412a-cb8b-825e47048ffd"
      },
      "execution_count": null,
      "outputs": [
        {
          "output_type": "stream",
          "name": "stderr",
          "text": [
            "<ipython-input-37-29021393e9c0>:2: SettingWithCopyWarning: \n",
            "A value is trying to be set on a copy of a slice from a DataFrame.\n",
            "Try using .loc[row_indexer,col_indexer] = value instead\n",
            "\n",
            "See the caveats in the documentation: https://pandas.pydata.org/pandas-docs/stable/user_guide/indexing.html#returning-a-view-versus-a-copy\n",
            "  df_merged_pclass1.loc[:, 'Fare_Decile'] = pd.qcut(\n",
            "<ipython-input-37-29021393e9c0>:11: SettingWithCopyWarning: \n",
            "A value is trying to be set on a copy of a slice from a DataFrame.\n",
            "Try using .loc[row_indexer,col_indexer] = value instead\n",
            "\n",
            "See the caveats in the documentation: https://pandas.pydata.org/pandas-docs/stable/user_guide/indexing.html#returning-a-view-versus-a-copy\n",
            "  df_merged_pclass1.loc[:, 'Fare_Category'] = df_merged_pclass1['Fare_Decile'].map(dict(enumerate(labels)))\n"
          ]
        },
        {
          "output_type": "display_data",
          "data": {
            "text/plain": [
              "<Figure size 1200x600 with 2 Axes>"
            ],
            "image/png": "[encoded data removed]"
          },
          "metadata": {}
        }
      ]
    },
    {
      "cell_type": "code",
      "source": [
        "# Filtered dataset to Fare between $75-90\n",
        "df_filtered = df_merged_pclass1[(df_merged_pclass1['Fare'] > 70) & (df_merged_pclass1['Fare'] < 90)]"
      ],
      "metadata": {
        "id": "zhMiBVMEAMQx"
      },
      "execution_count": null,
      "outputs": []
    },
    {
      "cell_type": "code",
      "source": [
        "fare_stats = df_merged_pclass1.groupby('Embarked')['Fare'].describe()\n",
        "fare_stats['median'] = df_merged_pclass1.groupby('Embarked')['Fare'].median()\n",
        "print(fare_stats)"
      ],
      "metadata": {
        "colab": {
          "base_uri": "https://localhost:8080/"
        },
        "id": "pHD_WOo_D5Ye",
        "outputId": "51b6f3c5-785d-4d34-ab0f-4b59772944b6"
      },
      "execution_count": null,
      "outputs": [
        {
          "output_type": "stream",
          "name": "stdout",
          "text": [
            "          count        mean        std      min      25%      50%      75%  \\\n",
            "Embarked                                                                     \n",
            "C         141.0  106.845330  96.837527  25.7417  49.5042  76.7292  134.500   \n",
            "Q           3.0   90.000000   0.000000  90.0000  90.0000  90.0000   90.000   \n",
            "S         177.0   72.148094  61.995107   0.0000  26.5500  52.0000   83.475   \n",
            "\n",
            "               max   median  \n",
            "Embarked                     \n",
            "C         512.3292  76.7292  \n",
            "Q          90.0000  90.0000  \n",
            "S         263.0000  52.0000  \n"
          ]
        }
      ]
    },
    {
      "cell_type": "markdown",
      "source": [
        "$80 fare that was paid by these two passengers is closer to the median of C than the median of S. Embarked can be set to \"C\" for these two passengers."
      ],
      "metadata": {
        "id": "tn1HDeUhVq0s"
      }
    },
    {
      "cell_type": "markdown",
      "source": [
        "#### Predicting missing Fare data"
      ],
      "metadata": {
        "id": "RYz4JNtkWX9N"
      }
    },
    {
      "cell_type": "code",
      "source": [
        "# Filter to missing Fare data\n",
        "missing_fare = df_merged[df_merged['Fare'].isnull()]\n",
        "\n",
        "# Print rows\n",
        "print(missing_fare)"
      ],
      "metadata": {
        "colab": {
          "base_uri": "https://localhost:8080/"
        },
        "id": "j14kP_7cWbEk",
        "outputId": "d6f31e3a-57d2-4d23-bfe7-049b36be9d8e"
      },
      "execution_count": null,
      "outputs": [
        {
          "output_type": "stream",
          "name": "stdout",
          "text": [
            "      PassengerId  Survived  Pclass                Name   Sex   Age  SibSp  \\\n",
            "1043         1044       NaN       3  Storey, Mr. Thomas  male  60.5      0   \n",
            "\n",
            "      Parch Ticket  Fare Cabin Embarked  TestYes Ticket_Number Ticket_Group  \\\n",
            "1043      0   3701   NaN   NaN        S        1          3701      Regular   \n",
            "\n",
            "     Title  Siblings  Spouse  Parents  Children  \n",
            "1043    Mr         0       0        0         0  \n"
          ]
        }
      ]
    },
    {
      "cell_type": "code",
      "source": [
        "# Filter to other passengers in 3rd class, embarking from Southampton\n",
        "filtered_df = df_merged[(df_merged['Pclass'] == 3) & (df_merged['Embarked'] == 'S')]\n",
        "\n",
        "# Calculate fare statistics\n",
        "fare_stats = filtered_df['Fare'].describe()\n",
        "fare_stats['median'] = filtered_df['Fare'].median()\n",
        "\n",
        "# Print the results\n",
        "print(fare_stats)"
      ],
      "metadata": {
        "colab": {
          "base_uri": "https://localhost:8080/"
        },
        "id": "t1a6W89FWl_a",
        "outputId": "4947bb6c-3a13-43f9-cc71-83ca7c99f3e8"
      },
      "execution_count": null,
      "outputs": [
        {
          "output_type": "stream",
          "name": "stdout",
          "text": [
            "count     494.000000\n",
            "mean       14.435422\n",
            "std        13.118281\n",
            "min         0.000000\n",
            "25%         7.854200\n",
            "50%         8.050000\n",
            "75%        15.900000\n",
            "max        69.550000\n",
            "median      8.050000\n",
            "Name: Fare, dtype: float64\n"
          ]
        }
      ]
    },
    {
      "cell_type": "markdown",
      "source": [
        "Missing fare for this passenger can be set to the median fare for 3rd class passengers embarking from Southampton."
      ],
      "metadata": {
        "id": "5JP1u3yRXxYj"
      }
    },
    {
      "cell_type": "markdown",
      "source": [
        "#### Clean data"
      ],
      "metadata": {
        "id": "HHV47FeuV8bN"
      }
    },
    {
      "cell_type": "code",
      "source": [
        "# Remove feature \"Cabin\" from df_merged dataset\n",
        "df_merged.drop('Cabin', axis=1, inplace=True)\n",
        "\n",
        "# Set Embarked = C for PassengerId 62 and 830\n",
        "df_merged.loc[df_merged['PassengerId'].isin([62, 830]), 'Embarked'] = 'C'\n",
        "\n",
        "# Set Fare =8.05 for PassengerId 1044\n",
        "df_merged.loc[df_merged['PassengerId'] == 1044, 'Fare'] = 80.5"
      ],
      "metadata": {
        "id": "KxjRnyyAV-aZ"
      },
      "execution_count": null,
      "outputs": []
    },
    {
      "cell_type": "code",
      "source": [
        "# Download df_merged as csv\n",
        "df_merged.to_csv('df_merged.csv', index=False)"
      ],
      "metadata": {
        "id": "_I7HtyX_ra27"
      },
      "execution_count": null,
      "outputs": []
    },
    {
      "cell_type": "code",
      "source": [
        "# Convert Sex, Embarked, Ticket_Group and Title to numeric categorical variables\n",
        "df_merged['Sex_code'] = pd.Categorical(df_merged['Sex']).codes\n",
        "df_merged['Embarked_code'] = pd.Categorical(df_merged['Embarked']).codes\n",
        "df_merged['Ticket_Group_code'] = pd.Categorical(df_merged['Ticket_Group']).codes\n",
        "df_merged['Title_Code'] = pd.Categorical(df_merged['Title']).codes"
      ],
      "metadata": {
        "id": "H_fBcPvwJJp1"
      },
      "execution_count": null,
      "outputs": []
    },
    {
      "cell_type": "code",
      "source": [
        "df_merged.info()"
      ],
      "metadata": {
        "colab": {
          "base_uri": "https://localhost:8080/"
        },
        "id": "xp9OHuF1u-H8",
        "outputId": "fe8475a9-1607-4d58-d561-4adce1e84066"
      },
      "execution_count": null,
      "outputs": [
        {
          "output_type": "stream",
          "name": "stdout",
          "text": [
            "<class 'pandas.core.frame.DataFrame'>\n",
            "RangeIndex: 1309 entries, 0 to 1308\n",
            "Data columns (total 23 columns):\n",
            " #   Column             Non-Null Count  Dtype  \n",
            "---  ------             --------------  -----  \n",
            " 0   PassengerId        1309 non-null   int64  \n",
            " 1   Survived           891 non-null    float64\n",
            " 2   Pclass             1309 non-null   int64  \n",
            " 3   Name               1309 non-null   object \n",
            " 4   Sex                1309 non-null   object \n",
            " 5   Age                1046 non-null   float64\n",
            " 6   SibSp              1309 non-null   int64  \n",
            " 7   Parch              1309 non-null   int64  \n",
            " 8   Ticket             1309 non-null   object \n",
            " 9   Fare               1309 non-null   float64\n",
            " 10  Embarked           1309 non-null   object \n",
            " 11  TestYes            1309 non-null   int64  \n",
            " 12  Ticket_Number      1309 non-null   object \n",
            " 13  Ticket_Group       1309 non-null   object \n",
            " 14  Title              1309 non-null   object \n",
            " 15  Siblings           1309 non-null   int64  \n",
            " 16  Spouse             1309 non-null   int64  \n",
            " 17  Parents            1309 non-null   int64  \n",
            " 18  Children           1309 non-null   int64  \n",
            " 19  Sex_code           1309 non-null   int8   \n",
            " 20  Embarked_code      1309 non-null   int8   \n",
            " 21  Ticket_Group_code  1309 non-null   int8   \n",
            " 22  Title_Code         1309 non-null   int8   \n",
            "dtypes: float64(3), int64(9), int8(4), object(7)\n",
            "memory usage: 199.5+ KB\n"
          ]
        }
      ]
    },
    {
      "cell_type": "markdown",
      "source": [
        "### Predicting age"
      ],
      "metadata": {
        "id": "22BjprTZqC4g"
      }
    },
    {
      "cell_type": "markdown",
      "source": [
        "#### Comparing regression vs RF model for predicting Age"
      ],
      "metadata": {
        "id": "IbH2y38uN71f"
      }
    },
    {
      "cell_type": "code",
      "source": [
        "df_merged.info()"
      ],
      "metadata": {
        "colab": {
          "base_uri": "https://localhost:8080/"
        },
        "id": "_ndeNYkEvtf3",
        "outputId": "2d0a3072-14a7-4674-8e06-9a65203dc4f6"
      },
      "execution_count": null,
      "outputs": [
        {
          "output_type": "stream",
          "name": "stdout",
          "text": [
            "<class 'pandas.core.frame.DataFrame'>\n",
            "RangeIndex: 1309 entries, 0 to 1308\n",
            "Data columns (total 23 columns):\n",
            " #   Column             Non-Null Count  Dtype  \n",
            "---  ------             --------------  -----  \n",
            " 0   PassengerId        1309 non-null   int64  \n",
            " 1   Survived           891 non-null    float64\n",
            " 2   Pclass             1309 non-null   int64  \n",
            " 3   Name               1309 non-null   object \n",
            " 4   Sex                1309 non-null   object \n",
            " 5   Age                1046 non-null   float64\n",
            " 6   SibSp              1309 non-null   int64  \n",
            " 7   Parch              1309 non-null   int64  \n",
            " 8   Ticket             1309 non-null   object \n",
            " 9   Fare               1309 non-null   float64\n",
            " 10  Embarked           1309 non-null   object \n",
            " 11  TestYes            1309 non-null   int64  \n",
            " 12  Ticket_Number      1309 non-null   object \n",
            " 13  Ticket_Group       1309 non-null   object \n",
            " 14  Title              1309 non-null   object \n",
            " 15  Siblings           1309 non-null   int64  \n",
            " 16  Spouse             1309 non-null   int64  \n",
            " 17  Parents            1309 non-null   int64  \n",
            " 18  Children           1309 non-null   int64  \n",
            " 19  Sex_code           1309 non-null   int8   \n",
            " 20  Embarked_code      1309 non-null   int8   \n",
            " 21  Ticket_Group_code  1309 non-null   int8   \n",
            " 22  Title_Code         1309 non-null   int8   \n",
            "dtypes: float64(3), int64(9), int8(4), object(7)\n",
            "memory usage: 199.5+ KB\n"
          ]
        }
      ]
    },
    {
      "cell_type": "code",
      "source": [
        "# Regression3: trial and error to get lowest p-values, however Parents and Children variables cannot be used to predict missing age values\n",
        "age_model3 = smf.ols(formula='Age ~ C(Pclass) + Parents + Children + C(Embarked_code) + C(Title_Code)', data=df_merged).fit()\n",
        "print(age_model3.summary())"
      ],
      "metadata": {
        "colab": {
          "base_uri": "https://localhost:8080/"
        },
        "id": "ONcS6W5cKdvZ",
        "outputId": "d8e57a7b-6576-4ded-868b-9a83ba024486",
        "collapsed": true
      },
      "execution_count": null,
      "outputs": [
        {
          "output_type": "stream",
          "name": "stdout",
          "text": [
            "                            OLS Regression Results                            \n",
            "==============================================================================\n",
            "Dep. Variable:                    Age   R-squared:                       0.478\n",
            "Model:                            OLS   Adj. R-squared:                  0.472\n",
            "Method:                 Least Squares   F-statistic:                     86.05\n",
            "Date:                Sat, 03 May 2025   Prob (F-statistic):          1.35e-137\n",
            "Time:                        01:23:00   Log-Likelihood:                -3934.7\n",
            "No. Observations:                1046   AIC:                             7893.\n",
            "Df Residuals:                    1034   BIC:                             7953.\n",
            "Df Model:                          11                                         \n",
            "Covariance Type:            nonrobust                                         \n",
            "=========================================================================================\n",
            "                            coef    std err          t      P>|t|      [0.025      0.975]\n",
            "-----------------------------------------------------------------------------------------\n",
            "Intercept                25.1294      2.001     12.556      0.000      21.202      29.057\n",
            "C(Pclass)[T.2]           -9.9003      0.957    -10.346      0.000     -11.778      -8.023\n",
            "C(Pclass)[T.3]          -13.2734      0.861    -15.423      0.000     -14.962     -11.585\n",
            "C(Embarked_code)[T.1]     5.4144      1.738      3.116      0.002       2.005       8.824\n",
            "C(Embarked_code)[T.2]     1.9337      0.876      2.208      0.027       0.215       3.652\n",
            "C(Title_Code)[T.1]        7.5012      1.754      4.278      0.000       4.060      10.942\n",
            "C(Title_Code)[T.2]       14.8072      1.866      7.935      0.000      11.145      18.469\n",
            "C(Title_Code)[T.3]       15.6186      2.045      7.638      0.000      11.606      19.631\n",
            "C(Title_Code)[T.4]       23.3451      2.916      8.006      0.000      17.623      29.067\n",
            "C(Title_Code)[T.5]       15.3927      4.700      3.275      0.001       6.170      24.615\n",
            "Parents                  -7.3015      0.786     -9.289      0.000      -8.844      -5.759\n",
            "Children                  2.1990      0.497      4.425      0.000       1.224       3.174\n",
            "==============================================================================\n",
            "Omnibus:                      102.920   Durbin-Watson:                   1.875\n",
            "Prob(Omnibus):                  0.000   Jarque-Bera (JB):              144.171\n",
            "Skew:                           0.751   Prob(JB):                     4.94e-32\n",
            "Kurtosis:                       4.025   Cond. No.                         25.5\n",
            "==============================================================================\n",
            "\n",
            "Notes:\n",
            "[1] Standard Errors assume that the covariance matrix of the errors is correctly specified.\n"
          ]
        }
      ]
    },
    {
      "cell_type": "code",
      "source": [
        "# Random forest to predict age\n",
        "df_age_rf = df_merged[df_merged['Age'].notnull()].copy()\n",
        "\n",
        "# Select features\n",
        "features = ['Pclass', 'Age', 'SibSp', 'Parch', 'Fare', 'Siblings', 'Spouse', 'Parents', 'Children', 'Sex_code', 'Embarked_code', 'Ticket_Group_code', 'Title_Code']\n",
        "X = df_age_rf[features]\n",
        "y = df_age_rf['Age']\n",
        "\n",
        "# Train model\n",
        "rf_model = RandomForestRegressor(n_estimators=100, random_state=42)\n",
        "rf_model.fit(X, y)"
      ],
      "metadata": {
        "colab": {
          "base_uri": "https://localhost:8080/"
        },
        "id": "Ct3p7lT9q6JU",
        "outputId": "cbe28c9c-9a47-4a3e-dade-dd0f0e6d72c6"
      },
      "execution_count": null,
      "outputs": [
        {
          "output_type": "execute_result",
          "data": {
            "text/plain": [
              "RandomForestRegressor(random_state=42)"
            ],
            "text/html": [
              "<style>#sk-container-id-1 {\n",
              "  /* Definition of color scheme common for light and dark mode */\n",
              "  --sklearn-color-text: #000;\n",
              "  --sklearn-color-text-muted: #666;\n",
              "  --sklearn-color-line: gray;\n",
              "  /* Definition of color scheme for unfitted estimators */\n",
              "  --sklearn-color-unfitted-level-0: #fff5e6;\n",
              "  --sklearn-color-unfitted-level-1: #f6e4d2;\n",
              "  --sklearn-color-unfitted-level-2: #ffe0b3;\n",
              "  --sklearn-color-unfitted-level-3: chocolate;\n",
              "  /* Definition of color scheme for fitted estimators */\n",
              "  --sklearn-color-fitted-level-0: #f0f8ff;\n",
              "  --sklearn-color-fitted-level-1: #d4ebff;\n",
              "  --sklearn-color-fitted-level-2: #b3dbfd;\n",
              "  --sklearn-color-fitted-level-3: cornflowerblue;\n",
              "\n",
              "  /* Specific color for light theme */\n",
              "  --sklearn-color-text-on-default-background: var(--sg-text-color, var(--theme-code-foreground, var(--jp-content-font-color1, black)));\n",
              "  --sklearn-color-background: var(--sg-background-color, var(--theme-background, var(--jp-layout-color0, white)));\n",
              "  --sklearn-color-border-box: var(--sg-text-color, var(--theme-code-foreground, var(--jp-content-font-color1, black)));\n",
              "  --sklearn-color-icon: #696969;\n",
              "\n",
              "  @media (prefers-color-scheme: dark) {\n",
              "    /* Redefinition of color scheme for dark theme */\n",
              "    --sklearn-color-text-on-default-background: var(--sg-text-color, var(--theme-code-foreground, var(--jp-content-font-color1, white)));\n",
              "    --sklearn-color-background: var(--sg-background-color, var(--theme-background, var(--jp-layout-color0, #111)));\n",
              "    --sklearn-color-border-box: var(--sg-text-color, var(--theme-code-foreground, var(--jp-content-font-color1, white)));\n",
              "    --sklearn-color-icon: #878787;\n",
              "  }\n",
              "}\n",
              "\n",
              "#sk-container-id-1 {\n",
              "  color: var(--sklearn-color-text);\n",
              "}\n",
              "\n",
              "#sk-container-id-1 pre {\n",
              "  padding: 0;\n",
              "}\n",
              "\n",
              "#sk-container-id-1 input.sk-hidden--visually {\n",
              "  border: 0;\n",
              "  clip: rect(1px 1px 1px 1px);\n",
              "  clip: rect(1px, 1px, 1px, 1px);\n",
              "  height: 1px;\n",
              "  margin: -1px;\n",
              "  overflow: hidden;\n",
              "  padding: 0;\n",
              "  position: absolute;\n",
              "  width: 1px;\n",
              "}\n",
              "\n",
              "#sk-container-id-1 div.sk-dashed-wrapped {\n",
              "  border: 1px dashed var(--sklearn-color-line);\n",
              "  margin: 0 0.4em 0.5em 0.4em;\n",
              "  box-sizing: border-box;\n",
              "  padding-bottom: 0.4em;\n",
              "  background-color: var(--sklearn-color-background);\n",
              "}\n",
              "\n",
              "#sk-container-id-1 div.sk-container {\n",
              "  /* jupyter's `normalize.less` sets `[hidden] { display: none; }`\n",
              "     but bootstrap.min.css set `[hidden] { display: none !important; }`\n",
              "     so we also need the `!important` here to be able to override the\n",
              "     default hidden behavior on the sphinx rendered scikit-learn.org.\n",
              "     See: https://github.com/scikit-learn/scikit-learn/issues/21755 */\n",
              "  display: inline-block !important;\n",
              "  position: relative;\n",
              "}\n",
              "\n",
              "#sk-container-id-1 div.sk-text-repr-fallback {\n",
              "  display: none;\n",
              "}\n",
              "\n",
              "div.sk-parallel-item,\n",
              "div.sk-serial,\n",
              "div.sk-item {\n",
              "  /* draw centered vertical line to link estimators */\n",
              "  background-image: linear-gradient(var(--sklearn-color-text-on-default-background), var(--sklearn-color-text-on-default-background));\n",
              "  background-size: 2px 100%;\n",
              "  background-repeat: no-repeat;\n",
              "  background-position: center center;\n",
              "}\n",
              "\n",
              "/* Parallel-specific style estimator block */\n",
              "\n",
              "#sk-container-id-1 div.sk-parallel-item::after {\n",
              "  content: \"\";\n",
              "  width: 100%;\n",
              "  border-bottom: 2px solid var(--sklearn-color-text-on-default-background);\n",
              "  flex-grow: 1;\n",
              "}\n",
              "\n",
              "#sk-container-id-1 div.sk-parallel {\n",
              "  display: flex;\n",
              "  align-items: stretch;\n",
              "  justify-content: center;\n",
              "  background-color: var(--sklearn-color-background);\n",
              "  position: relative;\n",
              "}\n",
              "\n",
              "#sk-container-id-1 div.sk-parallel-item {\n",
              "  display: flex;\n",
              "  flex-direction: column;\n",
              "}\n",
              "\n",
              "#sk-container-id-1 div.sk-parallel-item:first-child::after {\n",
              "  align-self: flex-end;\n",
              "  width: 50%;\n",
              "}\n",
              "\n",
              "#sk-container-id-1 div.sk-parallel-item:last-child::after {\n",
              "  align-self: flex-start;\n",
              "  width: 50%;\n",
              "}\n",
              "\n",
              "#sk-container-id-1 div.sk-parallel-item:only-child::after {\n",
              "  width: 0;\n",
              "}\n",
              "\n",
              "/* Serial-specific style estimator block */\n",
              "\n",
              "#sk-container-id-1 div.sk-serial {\n",
              "  display: flex;\n",
              "  flex-direction: column;\n",
              "  align-items: center;\n",
              "  background-color: var(--sklearn-color-background);\n",
              "  padding-right: 1em;\n",
              "  padding-left: 1em;\n",
              "}\n",
              "\n",
              "\n",
              "/* Toggleable style: style used for estimator/Pipeline/ColumnTransformer box that is\n",
              "clickable and can be expanded/collapsed.\n",
              "- Pipeline and ColumnTransformer use this feature and define the default style\n",
              "- Estimators will overwrite some part of the style using the `sk-estimator` class\n",
              "*/\n",
              "\n",
              "/* Pipeline and ColumnTransformer style (default) */\n",
              "\n",
              "#sk-container-id-1 div.sk-toggleable {\n",
              "  /* Default theme specific background. It is overwritten whether we have a\n",
              "  specific estimator or a Pipeline/ColumnTransformer */\n",
              "  background-color: var(--sklearn-color-background);\n",
              "}\n",
              "\n",
              "/* Toggleable label */\n",
              "#sk-container-id-1 label.sk-toggleable__label {\n",
              "  cursor: pointer;\n",
              "  display: flex;\n",
              "  width: 100%;\n",
              "  margin-bottom: 0;\n",
              "  padding: 0.5em;\n",
              "  box-sizing: border-box;\n",
              "  text-align: center;\n",
              "  align-items: start;\n",
              "  justify-content: space-between;\n",
              "  gap: 0.5em;\n",
              "}\n",
              "\n",
              "#sk-container-id-1 label.sk-toggleable__label .caption {\n",
              "  font-size: 0.6rem;\n",
              "  font-weight: lighter;\n",
              "  color: var(--sklearn-color-text-muted);\n",
              "}\n",
              "\n",
              "#sk-container-id-1 label.sk-toggleable__label-arrow:before {\n",
              "  /* Arrow on the left of the label */\n",
              "  content: \"▸\";\n",
              "  float: left;\n",
              "  margin-right: 0.25em;\n",
              "  color: var(--sklearn-color-icon);\n",
              "}\n",
              "\n",
              "#sk-container-id-1 label.sk-toggleable__label-arrow:hover:before {\n",
              "  color: var(--sklearn-color-text);\n",
              "}\n",
              "\n",
              "/* Toggleable content - dropdown */\n",
              "\n",
              "#sk-container-id-1 div.sk-toggleable__content {\n",
              "  max-height: 0;\n",
              "  max-width: 0;\n",
              "  overflow: hidden;\n",
              "  text-align: left;\n",
              "  /* unfitted */\n",
              "  background-color: var(--sklearn-color-unfitted-level-0);\n",
              "}\n",
              "\n",
              "#sk-container-id-1 div.sk-toggleable__content.fitted {\n",
              "  /* fitted */\n",
              "  background-color: var(--sklearn-color-fitted-level-0);\n",
              "}\n",
              "\n",
              "#sk-container-id-1 div.sk-toggleable__content pre {\n",
              "  margin: 0.2em;\n",
              "  border-radius: 0.25em;\n",
              "  color: var(--sklearn-color-text);\n",
              "  /* unfitted */\n",
              "  background-color: var(--sklearn-color-unfitted-level-0);\n",
              "}\n",
              "\n",
              "#sk-container-id-1 div.sk-toggleable__content.fitted pre {\n",
              "  /* unfitted */\n",
              "  background-color: var(--sklearn-color-fitted-level-0);\n",
              "}\n",
              "\n",
              "#sk-container-id-1 input.sk-toggleable__control:checked~div.sk-toggleable__content {\n",
              "  /* Expand drop-down */\n",
              "  max-height: 200px;\n",
              "  max-width: 100%;\n",
              "  overflow: auto;\n",
              "}\n",
              "\n",
              "#sk-container-id-1 input.sk-toggleable__control:checked~label.sk-toggleable__label-arrow:before {\n",
              "  content: \"▾\";\n",
              "}\n",
              "\n",
              "/* Pipeline/ColumnTransformer-specific style */\n",
              "\n",
              "#sk-container-id-1 div.sk-label input.sk-toggleable__control:checked~label.sk-toggleable__label {\n",
              "  color: var(--sklearn-color-text);\n",
              "  background-color: var(--sklearn-color-unfitted-level-2);\n",
              "}\n",
              "\n",
              "#sk-container-id-1 div.sk-label.fitted input.sk-toggleable__control:checked~label.sk-toggleable__label {\n",
              "  background-color: var(--sklearn-color-fitted-level-2);\n",
              "}\n",
              "\n",
              "/* Estimator-specific style */\n",
              "\n",
              "/* Colorize estimator box */\n",
              "#sk-container-id-1 div.sk-estimator input.sk-toggleable__control:checked~label.sk-toggleable__label {\n",
              "  /* unfitted */\n",
              "  background-color: var(--sklearn-color-unfitted-level-2);\n",
              "}\n",
              "\n",
              "#sk-container-id-1 div.sk-estimator.fitted input.sk-toggleable__control:checked~label.sk-toggleable__label {\n",
              "  /* fitted */\n",
              "  background-color: var(--sklearn-color-fitted-level-2);\n",
              "}\n",
              "\n",
              "#sk-container-id-1 div.sk-label label.sk-toggleable__label,\n",
              "#sk-container-id-1 div.sk-label label {\n",
              "  /* The background is the default theme color */\n",
              "  color: var(--sklearn-color-text-on-default-background);\n",
              "}\n",
              "\n",
              "/* On hover, darken the color of the background */\n",
              "#sk-container-id-1 div.sk-label:hover label.sk-toggleable__label {\n",
              "  color: var(--sklearn-color-text);\n",
              "  background-color: var(--sklearn-color-unfitted-level-2);\n",
              "}\n",
              "\n",
              "/* Label box, darken color on hover, fitted */\n",
              "#sk-container-id-1 div.sk-label.fitted:hover label.sk-toggleable__label.fitted {\n",
              "  color: var(--sklearn-color-text);\n",
              "  background-color: var(--sklearn-color-fitted-level-2);\n",
              "}\n",
              "\n",
              "/* Estimator label */\n",
              "\n",
              "#sk-container-id-1 div.sk-label label {\n",
              "  font-family: monospace;\n",
              "  font-weight: bold;\n",
              "  display: inline-block;\n",
              "  line-height: 1.2em;\n",
              "}\n",
              "\n",
              "#sk-container-id-1 div.sk-label-container {\n",
              "  text-align: center;\n",
              "}\n",
              "\n",
              "/* Estimator-specific */\n",
              "#sk-container-id-1 div.sk-estimator {\n",
              "  font-family: monospace;\n",
              "  border: 1px dotted var(--sklearn-color-border-box);\n",
              "  border-radius: 0.25em;\n",
              "  box-sizing: border-box;\n",
              "  margin-bottom: 0.5em;\n",
              "  /* unfitted */\n",
              "  background-color: var(--sklearn-color-unfitted-level-0);\n",
              "}\n",
              "\n",
              "#sk-container-id-1 div.sk-estimator.fitted {\n",
              "  /* fitted */\n",
              "  background-color: var(--sklearn-color-fitted-level-0);\n",
              "}\n",
              "\n",
              "/* on hover */\n",
              "#sk-container-id-1 div.sk-estimator:hover {\n",
              "  /* unfitted */\n",
              "  background-color: var(--sklearn-color-unfitted-level-2);\n",
              "}\n",
              "\n",
              "#sk-container-id-1 div.sk-estimator.fitted:hover {\n",
              "  /* fitted */\n",
              "  background-color: var(--sklearn-color-fitted-level-2);\n",
              "}\n",
              "\n",
              "/* Specification for estimator info (e.g. \"i\" and \"?\") */\n",
              "\n",
              "/* Common style for \"i\" and \"?\" */\n",
              "\n",
              ".sk-estimator-doc-link,\n",
              "a:link.sk-estimator-doc-link,\n",
              "a:visited.sk-estimator-doc-link {\n",
              "  float: right;\n",
              "  font-size: smaller;\n",
              "  line-height: 1em;\n",
              "  font-family: monospace;\n",
              "  background-color: var(--sklearn-color-background);\n",
              "  border-radius: 1em;\n",
              "  height: 1em;\n",
              "  width: 1em;\n",
              "  text-decoration: none !important;\n",
              "  margin-left: 0.5em;\n",
              "  text-align: center;\n",
              "  /* unfitted */\n",
              "  border: var(--sklearn-color-unfitted-level-1) 1pt solid;\n",
              "  color: var(--sklearn-color-unfitted-level-1);\n",
              "}\n",
              "\n",
              ".sk-estimator-doc-link.fitted,\n",
              "a:link.sk-estimator-doc-link.fitted,\n",
              "a:visited.sk-estimator-doc-link.fitted {\n",
              "  /* fitted */\n",
              "  border: var(--sklearn-color-fitted-level-1) 1pt solid;\n",
              "  color: var(--sklearn-color-fitted-level-1);\n",
              "}\n",
              "\n",
              "/* On hover */\n",
              "div.sk-estimator:hover .sk-estimator-doc-link:hover,\n",
              ".sk-estimator-doc-link:hover,\n",
              "div.sk-label-container:hover .sk-estimator-doc-link:hover,\n",
              ".sk-estimator-doc-link:hover {\n",
              "  /* unfitted */\n",
              "  background-color: var(--sklearn-color-unfitted-level-3);\n",
              "  color: var(--sklearn-color-background);\n",
              "  text-decoration: none;\n",
              "}\n",
              "\n",
              "div.sk-estimator.fitted:hover .sk-estimator-doc-link.fitted:hover,\n",
              ".sk-estimator-doc-link.fitted:hover,\n",
              "div.sk-label-container:hover .sk-estimator-doc-link.fitted:hover,\n",
              ".sk-estimator-doc-link.fitted:hover {\n",
              "  /* fitted */\n",
              "  background-color: var(--sklearn-color-fitted-level-3);\n",
              "  color: var(--sklearn-color-background);\n",
              "  text-decoration: none;\n",
              "}\n",
              "\n",
              "/* Span, style for the box shown on hovering the info icon */\n",
              ".sk-estimator-doc-link span {\n",
              "  display: none;\n",
              "  z-index: 9999;\n",
              "  position: relative;\n",
              "  font-weight: normal;\n",
              "  right: .2ex;\n",
              "  padding: .5ex;\n",
              "  margin: .5ex;\n",
              "  width: min-content;\n",
              "  min-width: 20ex;\n",
              "  max-width: 50ex;\n",
              "  color: var(--sklearn-color-text);\n",
              "  box-shadow: 2pt 2pt 4pt #999;\n",
              "  /* unfitted */\n",
              "  background: var(--sklearn-color-unfitted-level-0);\n",
              "  border: .5pt solid var(--sklearn-color-unfitted-level-3);\n",
              "}\n",
              "\n",
              ".sk-estimator-doc-link.fitted span {\n",
              "  /* fitted */\n",
              "  background: var(--sklearn-color-fitted-level-0);\n",
              "  border: var(--sklearn-color-fitted-level-3);\n",
              "}\n",
              "\n",
              ".sk-estimator-doc-link:hover span {\n",
              "  display: block;\n",
              "}\n",
              "\n",
              "/* \"?\"-specific style due to the `<a>` HTML tag */\n",
              "\n",
              "#sk-container-id-1 a.estimator_doc_link {\n",
              "  float: right;\n",
              "  font-size: 1rem;\n",
              "  line-height: 1em;\n",
              "  font-family: monospace;\n",
              "  background-color: var(--sklearn-color-background);\n",
              "  border-radius: 1rem;\n",
              "  height: 1rem;\n",
              "  width: 1rem;\n",
              "  text-decoration: none;\n",
              "  /* unfitted */\n",
              "  color: var(--sklearn-color-unfitted-level-1);\n",
              "  border: var(--sklearn-color-unfitted-level-1) 1pt solid;\n",
              "}\n",
              "\n",
              "#sk-container-id-1 a.estimator_doc_link.fitted {\n",
              "  /* fitted */\n",
              "  border: var(--sklearn-color-fitted-level-1) 1pt solid;\n",
              "  color: var(--sklearn-color-fitted-level-1);\n",
              "}\n",
              "\n",
              "/* On hover */\n",
              "#sk-container-id-1 a.estimator_doc_link:hover {\n",
              "  /* unfitted */\n",
              "  background-color: var(--sklearn-color-unfitted-level-3);\n",
              "  color: var(--sklearn-color-background);\n",
              "  text-decoration: none;\n",
              "}\n",
              "\n",
              "#sk-container-id-1 a.estimator_doc_link.fitted:hover {\n",
              "  /* fitted */\n",
              "  background-color: var(--sklearn-color-fitted-level-3);\n",
              "}\n",
              "</style><div id=\"sk-container-id-1\" class=\"sk-top-container\"><div class=\"sk-text-repr-fallback\"><pre>RandomForestRegressor(random_state=42)</pre><b>In a Jupyter environment, please rerun this cell to show the HTML representation or trust the notebook. <br />On GitHub, the HTML representation is unable to render, please try loading this page with nbviewer.org.</b></div><div class=\"sk-container\" hidden><div class=\"sk-item\"><div class=\"sk-estimator fitted sk-toggleable\"><input class=\"sk-toggleable__control sk-hidden--visually\" id=\"sk-estimator-id-1\" type=\"checkbox\" checked><label for=\"sk-estimator-id-1\" class=\"sk-toggleable__label fitted sk-toggleable__label-arrow\"><div><div>RandomForestRegressor</div></div><div><a class=\"sk-estimator-doc-link fitted\" rel=\"noreferrer\" target=\"_blank\" href=\"https://scikit-learn.org/1.6/modules/generated/sklearn.ensemble.RandomForestRegressor.html\">?<span>Documentation for RandomForestRegressor</span></a><span class=\"sk-estimator-doc-link fitted\">i<span>Fitted</span></span></div></label><div class=\"sk-toggleable__content fitted\"><pre>RandomForestRegressor(random_state=42)</pre></div> </div></div></div></div>"
            ]
          },
          "metadata": {},
          "execution_count": 48
        }
      ]
    },
    {
      "cell_type": "code",
      "source": [
        "# Make age predictions for missing data using regression\n",
        "df_merged['Age_Predicted3'] = age_model3.predict(df_merged)"
      ],
      "metadata": {
        "id": "tU2hSaY5GrOn"
      },
      "execution_count": null,
      "outputs": []
    },
    {
      "cell_type": "code",
      "source": [
        "# Make age predictions for missing data using random forest\n",
        "df_merged['Age_Predicted_RF'] = rf_model.predict(df_merged[features])"
      ],
      "metadata": {
        "id": "pF0qzqGisZWB"
      },
      "execution_count": null,
      "outputs": []
    },
    {
      "cell_type": "code",
      "source": [
        "# Mask where Age is known (to use as ground truth)\n",
        "mask = df_merged['Age'].notnull()\n",
        "\n",
        "# Calculate RMSE for both models\n",
        "rmse_RF = np.sqrt(mean_squared_error(df_merged.loc[mask, 'Age'], df_merged.loc[mask, 'Age_Predicted_RF']))\n",
        "rmse_reg3 = np.sqrt(mean_squared_error(df_merged.loc[mask, 'Age'], df_merged.loc[mask, 'Age_Predicted3']))\n",
        "\n",
        "print(f\"RMSE for Random Forest: {rmse_RF}\")\n",
        "print(f\"RMSE for Regression3: {rmse_reg3}\")"
      ],
      "metadata": {
        "colab": {
          "base_uri": "https://localhost:8080/"
        },
        "id": "jICdliNptaRU",
        "outputId": "4239eb5d-6502-4a0c-f463-4e9d38e57451"
      },
      "execution_count": null,
      "outputs": [
        {
          "output_type": "stream",
          "name": "stdout",
          "text": [
            "RMSE for Random Forest: 0.07645610038974587\n",
            "RMSE for Regression3: 10.409408119948672\n"
          ]
        }
      ]
    },
    {
      "cell_type": "code",
      "source": [
        "# Download df_merged as csv\n",
        "df_merged.to_csv('df_merged.csv', index=False)"
      ],
      "metadata": {
        "id": "QYgkySzwuk0z"
      },
      "execution_count": null,
      "outputs": []
    },
    {
      "cell_type": "code",
      "source": [
        "# Plot Age_Predicted3 vs Age for samples where Age is not missing\n",
        "plt.figure(figsize=(12, 6))\n",
        "sns.scatterplot(x='Age_Predicted3', y='Age', data=df_merged[~df_merged['Age'].isnull()])\n",
        "plt.title('Age vs Age_Predicted3')\n",
        "plt.xlabel('Age_Predicted3')\n",
        "plt.ylabel('Age')\n",
        "plt.show()"
      ],
      "metadata": {
        "colab": {
          "base_uri": "https://localhost:8080/"
        },
        "id": "ftJ3gHitNVS6",
        "outputId": "81d1cb1c-3933-4ad3-91c1-bb36b9068639"
      },
      "execution_count": null,
      "outputs": [
        {
          "output_type": "display_data",
          "data": {
            "text/plain": [
              "<Figure size 1200x600 with 1 Axes>"
            ],
            "image/png": "[encoded data removed]"
          },
          "metadata": {}
        }
      ]
    },
    {
      "cell_type": "code",
      "source": [
        "# Plot Age_Predicted_RF vs Age for samples where Age is not missing\n",
        "plt.figure(figsize=(12, 6))\n",
        "sns.scatterplot(x='Age_Predicted_RF', y='Age', data=df_merged[~df_merged['Age'].isnull()])\n",
        "plt.title('Age vs Age_Predicted_RF')\n",
        "plt.xlabel('Age_Predicted_RF')\n",
        "plt.ylabel('Age')\n",
        "plt.show()"
      ],
      "metadata": {
        "colab": {
          "base_uri": "https://localhost:8080/"
        },
        "id": "S69WAeBLw3ck",
        "outputId": "1d470dd3-6a81-4089-affe-7762854c70d3"
      },
      "execution_count": null,
      "outputs": [
        {
          "output_type": "display_data",
          "data": {
            "text/plain": [
              "<Figure size 1200x600 with 1 Axes>"
            ],
            "image/png": "[encoded data removed]"
          },
          "metadata": {}
        }
      ]
    },
    {
      "cell_type": "markdown",
      "source": [
        "#### Updating Siblings, Spouse, Parents and Children Using Preliminary Predictions"
      ],
      "metadata": {
        "id": "w3zDqtX8OJ1e"
      }
    },
    {
      "cell_type": "code",
      "source": [
        "# If Title is Master, Miss or Age < 18 then Siblings = SibSp (this is a child or unmarried person)\n",
        "df_merged.loc[((df_merged['Title'].isin(['Master', 'Miss'])) | (df_merged['Age_Predicted3'] < 18)), 'Siblings'] = df_merged['SibSp']\n",
        "df_merged.loc[((df_merged['Title'].isin(['Master', 'Miss'])) | (df_merged['Age_Predicted3'] < 18)), 'Spouse'] = 0\n",
        "\n",
        "# If Title is Mr, Mrs, Royalty or Officer and Age >= 18, SibSp > 0, then Spouse = 1\n",
        "df_merged.loc[((df_merged['Title'].isin(['Mr', 'Mrs', 'Royalty', 'Officer'])) & (df_merged['Age_Predicted3'] >= 18) & (df_merged['SibSp'] > 0)), 'Spouse'] = 1\n",
        "df_merged.loc[((df_merged['Title'].isin(['Mr', 'Mrs', 'Royalty', 'Officer'])) & (df_merged['Age_Predicted3'] >= 18) & (df_merged['SibSp'] > 0)), 'Siblings'] = df_merged['SibSp'] - df_merged['Spouse']\n",
        "\n",
        "# If Title is Master, Miss or Age <= 20 then Parents = Parch (this is a child/young adult traveling with parents)\n",
        "df_merged.loc[((df_merged['Title'].isin(['Master', 'Miss'])) | (df_merged['Age_Predicted3'] <= 20)), 'Parents'] = df_merged['Parch']\n",
        "df_merged.loc[((df_merged['Title'].isin(['Master', 'Miss'])) | (df_merged['Age_Predicted3'] <= 20)), 'Children'] = 0\n",
        "\n",
        "# If Title is Mr, Mrs, Royalty or Officer and Age > 20, Parch > 0 then Children = Parch\n",
        "df_merged.loc[((df_merged['Title'].isin(['Mr', 'Mrs', 'Royalty', 'Officer'])) & (df_merged['Age_Predicted3'] > 20) & (df_merged['Parch'] > 0)), 'Children'] = df_merged['Parch']\n",
        "df_merged.loc[((df_merged['Title'].isin(['Mr', 'Mrs', 'Royalty', 'Officer'])) & (df_merged['Age_Predicted3'] > 20) & (df_merged['Parch'] > 0)), 'Parents'] = 0\n"
      ],
      "metadata": {
        "id": "7_xSu0e-OT-F"
      },
      "execution_count": null,
      "outputs": []
    },
    {
      "cell_type": "markdown",
      "source": [
        "#### Rerunning Best Age Prediction"
      ],
      "metadata": {
        "id": "7f1QnQj_PhiT"
      }
    },
    {
      "cell_type": "code",
      "source": [
        "# Random forest to predict age\n",
        "df_age_rf = df_merged[df_merged['Age'].notnull()].copy()\n",
        "\n",
        "# Select features\n",
        "features = ['Pclass', 'Age', 'SibSp', 'Parch', 'Fare', 'Siblings', 'Spouse', 'Parents', 'Children', 'Sex_code', 'Embarked_code', 'Ticket_Group_code', 'Title_Code']\n",
        "X = df_age_rf[features]\n",
        "y = df_age_rf['Age']\n",
        "\n",
        "# Train model\n",
        "rf_model = RandomForestRegressor(n_estimators=100, random_state=42)\n",
        "rf_model.fit(X, y)\n",
        "\n",
        "# Make age predictions for missing data using random forest\n",
        "df_merged['Age_Predicted_RF'] = rf_model.predict(df_merged[features])"
      ],
      "metadata": {
        "id": "s14thl-zPgUs"
      },
      "execution_count": null,
      "outputs": []
    },
    {
      "cell_type": "code",
      "source": [
        "# Plot Age_Predicted3 vs Age for samples where Age is not missing\n",
        "plt.figure(figsize=(12, 6))\n",
        "sns.scatterplot(x='Age_Predicted_RF', y='Age', data=df_merged[~df_merged['Age'].isnull()])\n",
        "plt.title('Age vs Age_Predicted_RF')\n",
        "plt.xlabel('Age_Predicted_RF')\n",
        "plt.ylabel('Age')\n",
        "plt.show()"
      ],
      "metadata": {
        "colab": {
          "base_uri": "https://localhost:8080/",
          "height": 573
        },
        "id": "rQVeLzptQPPT",
        "outputId": "3b55c9c6-d6e8-4a71-89a5-ef240d96b672"
      },
      "execution_count": null,
      "outputs": [
        {
          "output_type": "display_data",
          "data": {
            "text/plain": [
              "<Figure size 1200x600 with 1 Axes>"
            ],
            "image/png": "[encoded data removed]"
          },
          "metadata": {}
        }
      ]
    },
    {
      "cell_type": "code",
      "source": [
        "# For missing values of Age, replace Age with Age_Predicted3\n",
        "df_merged['Age'] = df_merged['Age'].fillna(df_merged['Age_Predicted_RF'])\n",
        "\n",
        "# Download df_merged as csv\n",
        "df_merged.to_csv('df_merged.csv', index=False)"
      ],
      "metadata": {
        "id": "iXBmhmqWQe4Q"
      },
      "execution_count": null,
      "outputs": []
    },
    {
      "cell_type": "code",
      "source": [
        "df_merged.info()"
      ],
      "metadata": {
        "colab": {
          "base_uri": "https://localhost:8080/"
        },
        "id": "Jc8IEoAbRXF4",
        "outputId": "cc8f9441-9d50-49ad-b465-dedcca28932c"
      },
      "execution_count": null,
      "outputs": [
        {
          "output_type": "stream",
          "name": "stdout",
          "text": [
            "<class 'pandas.core.frame.DataFrame'>\n",
            "RangeIndex: 1309 entries, 0 to 1308\n",
            "Data columns (total 25 columns):\n",
            " #   Column             Non-Null Count  Dtype  \n",
            "---  ------             --------------  -----  \n",
            " 0   PassengerId        1309 non-null   int64  \n",
            " 1   Survived           891 non-null    float64\n",
            " 2   Pclass             1309 non-null   int64  \n",
            " 3   Name               1309 non-null   object \n",
            " 4   Sex                1309 non-null   object \n",
            " 5   Age                1309 non-null   float64\n",
            " 6   SibSp              1309 non-null   int64  \n",
            " 7   Parch              1309 non-null   int64  \n",
            " 8   Ticket             1309 non-null   object \n",
            " 9   Fare               1309 non-null   float64\n",
            " 10  Embarked           1309 non-null   object \n",
            " 11  TestYes            1309 non-null   int64  \n",
            " 12  Ticket_Number      1309 non-null   object \n",
            " 13  Ticket_Group       1309 non-null   object \n",
            " 14  Title              1309 non-null   object \n",
            " 15  Siblings           1309 non-null   int64  \n",
            " 16  Spouse             1309 non-null   int64  \n",
            " 17  Parents            1309 non-null   int64  \n",
            " 18  Children           1309 non-null   int64  \n",
            " 19  Sex_code           1309 non-null   int8   \n",
            " 20  Embarked_code      1309 non-null   int8   \n",
            " 21  Ticket_Group_code  1309 non-null   int8   \n",
            " 22  Title_Code         1309 non-null   int8   \n",
            " 23  Age_Predicted3     1309 non-null   float64\n",
            " 24  Age_Predicted_RF   1309 non-null   float64\n",
            "dtypes: float64(5), int64(9), int8(4), object(7)\n",
            "memory usage: 220.0+ KB\n"
          ]
        }
      ]
    }
  ]
}